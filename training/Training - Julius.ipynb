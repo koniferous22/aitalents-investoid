{
 "cells": [
  {
   "cell_type": "code",
   "execution_count": 1,
   "metadata": {},
   "outputs": [],
   "source": [
    "import torch\n",
    "import sys\n",
    "import torch.nn as nn\n",
    "import torch.nn.functional as F\n",
    "import torch.optim as optim\n",
    "from torch.utils.data import DataLoader, Dataset\n",
    "\n",
    "from sklearn.model_selection import train_test_split\n",
    "from tensorflow.keras.preprocessing.text import Tokenizer\n",
    "from tensorflow.keras.preprocessing.sequence import pad_sequences\n",
    "from sklearn.utils import class_weight\n",
    "\n",
    "import numpy as np\n",
    "import pandas as pd\n",
    "\n",
    "import seaborn as sns"
   ]
  },
  {
   "cell_type": "code",
   "execution_count": 2,
   "metadata": {},
   "outputs": [],
   "source": [
    "# define random seeds for deterministic results\n",
    "seed = 4242\n",
    "np.random.seed(seed)\n",
    "torch.manual_seed(seed)\n",
    "torch.cuda.manual_seed_all(seed)\n",
    "torch.backends.cudnn.deterministic = True\n",
    "torch.backends.cudnn.benchmark = False"
   ]
  },
  {
   "cell_type": "code",
   "execution_count": 3,
   "metadata": {},
   "outputs": [
    {
     "name": "stdout",
     "output_type": "stream",
     "text": [
      "   Unnamed: 0                                              title  \\\n",
      "0           0  ANZ Bank New Zealand sells life insurance busi...   \n",
      "1           1  Australia's Westpac cleared of rate rigging bu...   \n",
      "2           2  Clear Channel Outdoor Holdings, Inc. Reports R...   \n",
      "\n",
      "   change_+1day  change_+1week  change_+1month  change_+3month  \\\n",
      "0     -2.279028       0.928909       -1.944386        9.508421   \n",
      "1     -0.698973      -1.491145        1.584344       -6.290767   \n",
      "2     -1.111115      -2.222220        3.333335        4.444440   \n",
      "\n",
      "   change_+6month  type_1_positive_change_+1day  \\\n",
      "0       22.969072                             0   \n",
      "1      -11.136997                             0   \n",
      "2       30.222225                             0   \n",
      "\n",
      "   type_1_positive_change_+1week  type_1_positive_change_+1month  \\\n",
      "0                              1                               0   \n",
      "1                              0                               1   \n",
      "2                              0                               1   \n",
      "\n",
      "   type_1_positive_change_+3month  type_1_positive_change_+6month  \n",
      "0                               1                               1  \n",
      "1                               0                               0  \n",
      "2                               1                               1  \n"
     ]
    }
   ],
   "source": [
    "# read data\n",
    "csv = pd.read_csv('training_w_labels1.csv')\n",
    "print(csv.head(3))\n",
    "texts = csv['title'].values\n",
    "labels = csv['type_1_positive_change_+1day'].values"
   ]
  },
  {
   "cell_type": "code",
   "execution_count": 4,
   "metadata": {},
   "outputs": [
    {
     "name": "stdout",
     "output_type": "stream",
     "text": [
      "examples: 55035\n",
      "labels: 55035\n"
     ]
    },
    {
     "data": {
      "text/plain": [
       "<matplotlib.axes._subplots.AxesSubplot at 0x7f0972411d30>"
      ]
     },
     "execution_count": 4,
     "metadata": {},
     "output_type": "execute_result"
    },
    {
     "data": {
      "image/png": "[encoded data removed]",
      "text/plain": [
       "<Figure size 432x288 with 1 Axes>"
      ]
     },
     "metadata": {
      "needs_background": "light"
     },
     "output_type": "display_data"
    }
   ],
   "source": [
    "print('examples:', len(texts))\n",
    "print('labels:', len(labels))\n",
    "\n",
    "sns.histplot(labels)"
   ]
  },
  {
   "cell_type": "code",
   "execution_count": 5,
   "metadata": {},
   "outputs": [],
   "source": [
    "def calculate_class_weights(labels, return_dict=True, first_class_index=0):\n",
    "    if isinstance(labels[0], list) or isinstance(labels[0], np.ndarray):\n",
    "        labels = [y.argmax() for y in labels]\n",
    "\n",
    "    class_weights = class_weight.compute_class_weight('balanced', classes=np.unique(labels), y=labels)\n",
    "    if return_dict:\n",
    "        weight_dict = {}\n",
    "        for key in range(len(class_weights)):\n",
    "            weight_dict[key + first_class_index] = class_weights[key]\n",
    "        return weight_dict\n",
    "    else:\n",
    "        return class_weights"
   ]
  },
  {
   "cell_type": "code",
   "execution_count": 6,
   "metadata": {},
   "outputs": [],
   "source": [
    "# input data restrictions\n",
    "vocabulary = 10000\n",
    "length = 15"
   ]
  },
  {
   "cell_type": "code",
   "execution_count": 7,
   "metadata": {},
   "outputs": [],
   "source": [
    "# tokenizer texts (filters for punctuation)\n",
    "tokenizer = Tokenizer(num_words=vocabulary)\n",
    "tokenizer.fit_on_texts(texts)\n",
    "\n",
    "#if save_model:\n",
    "#    torch.save(tokenizer, f'models/{model_name}.tokenizer')\n",
    "\n",
    "# tansform texts to padded sequences\n",
    "sequences = tokenizer.texts_to_sequences(texts)\n",
    "sequences = pad_sequences(sequences, maxlen=length, truncating='post', padding='pre')\n",
    "\n",
    "# compute balanced class weights if needed\n",
    "class_weights = calculate_class_weights(labels=labels)\n",
    "\n",
    "# train / test split and shuffle\n",
    "x_train, x_test, y_train, y_test = train_test_split(sequences, labels, random_state=seed, test_size=0.2)"
   ]
  },
  {
   "cell_type": "code",
   "execution_count": 8,
   "metadata": {},
   "outputs": [
    {
     "name": "stdout",
     "output_type": "stream",
     "text": [
      "21171\n",
      "33864\n",
      "27517.5\n",
      "27517.499999999996\n"
     ]
    },
    {
     "data": {
      "text/plain": [
       "{0: 0.8125885896527285, 1: 1.299773274762647}"
      ]
     },
     "execution_count": 8,
     "metadata": {},
     "output_type": "execute_result"
    }
   ],
   "source": [
    "ones = sum(labels)\n",
    "zeros = len(labels) - ones\n",
    "print(ones)\n",
    "print(zeros)\n",
    "print(zeros * class_weights[0])\n",
    "print(ones * class_weights[1])\n",
    "class_weights"
   ]
  },
  {
   "cell_type": "code",
   "execution_count": 9,
   "metadata": {},
   "outputs": [],
   "source": [
    "class ArrayDataSet(Dataset):\n",
    "    def __init__(self, x, y, t):\n",
    "        self.X = torch.tensor(x, dtype=t)\n",
    "        self.Y = torch.tensor(y, dtype=t)\n",
    "\n",
    "    def __len__(self):\n",
    "        return len(self.X)\n",
    "\n",
    "    def __getitem__(self, index):\n",
    "        return (self.X[index], self.Y[index])"
   ]
  },
  {
   "cell_type": "code",
   "execution_count": 10,
   "metadata": {},
   "outputs": [],
   "source": [
    "batch_size = 256\n",
    "\n",
    "# setup data loaders for training and evaluation\n",
    "train_loader = DataLoader(dataset=ArrayDataSet(x=x_train, y=y_train, t=torch.long),\n",
    "                          batch_size=batch_size, shuffle=True, num_workers=2)\n",
    "valid_loader = DataLoader(dataset=ArrayDataSet(x=x_test, y=y_test, t=torch.long),\n",
    "                          batch_size=batch_size, shuffle=True, num_workers=2)"
   ]
  },
  {
   "cell_type": "code",
   "execution_count": 11,
   "metadata": {},
   "outputs": [],
   "source": [
    "features = 200\n",
    "class ConvNet(nn.Module):\n",
    "    def __init__(self):\n",
    "        super(ConvNet, self).__init__()\n",
    "        self.embeddings = nn.Embedding(num_embeddings=vocabulary, embedding_dim=features)\n",
    "        self.convolutions = nn.ModuleList([nn.Conv2d(in_channels=1, out_channels=32, kernel_size=(3, features)),\n",
    "                                           nn.Conv2d(in_channels=1, out_channels=32, kernel_size=(5, features)),\n",
    "                                           nn.Conv2d(in_channels=1, out_channels=32, kernel_size=(10, features))])\n",
    "        #self.fc1 = nn.Linear(in_features=64 * len(self.convolutions), out_features=32)\n",
    "        self.fc2 = nn.Linear(in_features=32 * len(self.convolutions), out_features=2)\n",
    "\n",
    "    def forward(self, x):\n",
    "        x = self.embeddings(x)\n",
    "        x = torch.unsqueeze(x, dim=1)\n",
    "        xs = []\n",
    "        for convolution in self.convolutions:\n",
    "            c = F.softplus(convolution(x))\n",
    "            c = torch.squeeze(c)\n",
    "            c = F.max_pool1d(c, kernel_size=c.size()[2])\n",
    "            xs.append(c)\n",
    "        x = torch.cat(xs, dim=2)\n",
    "        x = x.view(x.size(0), -1)\n",
    "        #x = F.leaky_relu(self.fc1(x), negative_slope=0.1)\n",
    "        x = self.fc2(x)\n",
    "        return x"
   ]
  },
  {
   "cell_type": "code",
   "execution_count": 12,
   "metadata": {},
   "outputs": [],
   "source": [
    "class LSTMNet(nn.Module):\n",
    "    def __init__(self):\n",
    "        super(LSTMNet, self).__init__()\n",
    "        self.embeddings = nn.Embedding(num_embeddings=vocabulary, embedding_dim=features)\n",
    "        self.lstm_1 = nn.LSTM(input_size=features, hidden_size=32, num_layers=3, dropout=0.125,\n",
    "                              bidirectional=True, batch_first=True)\n",
    "        # self.lstm_2 = nn.LSTM(input_size=32 * length, hidden_size=32, num_layers=1, dropout=0.125,\n",
    "        #                       bidirectional=True, batch_first=True)\n",
    "        #self.fc1 = nn.Linear(in_features=256, out_features=64)\n",
    "        self.fc2 = nn.Linear(in_features=64, out_features=2)\n",
    "\n",
    "    def forward(self, x):\n",
    "        # print(x.shape)\n",
    "        x = self.embeddings(x)\n",
    "        # print(x.shape)\n",
    "        x, _ = self.lstm_1(x)\n",
    "        # print(x.shape)\n",
    "        x = x[:, -1, :]\n",
    "        # h = torch.cat(h, dim=1)\n",
    "        # print('h:', h.shape)\n",
    "        # print(x.shape)\n",
    "        # x = x.reshape(x.shape[0], -1)\n",
    "        # print(x.shape)\n",
    "        # x, h = self.lstm_2(x)\n",
    "        # print(x.shape)\n",
    "        #x = self.fc1(x)\n",
    "        # print(x.shape)\n",
    "        x = self.fc2(x)\n",
    "        # print(x.shape)\n",
    "        return x"
   ]
  },
  {
   "cell_type": "code",
   "execution_count": 13,
   "metadata": {},
   "outputs": [],
   "source": [
    "device = 'cuda' # change to cpu for cpu and cuda for gpu training\n",
    "net = ConvNet().to(device)"
   ]
  },
  {
   "cell_type": "code",
   "execution_count": 14,
   "metadata": {},
   "outputs": [
    {
     "name": "stdout",
     "output_type": "stream",
     "text": [
      "torch.Size([256, 2])\n"
     ]
    }
   ],
   "source": [
    "t = torch.rand(batch_size, length).long().to(device)\n",
    "p = net(t)\n",
    "print(p.shape)"
   ]
  },
  {
   "cell_type": "code",
   "execution_count": 15,
   "metadata": {},
   "outputs": [],
   "source": [
    "optimizer = optim.Adam(net.parameters(), lr=0.001)\n",
    "#optimizer = optim.SGD(net.parameters(), lr=0.001, momentum=0.5)\n",
    "#optimizer = optim.RMSprop(net.parameters(), lr=0.001, alpha=0.9, eps=1e-07)\n",
    "class_weights = torch.tensor(list(class_weights.values())).type(torch.FloatTensor).to(device)\n",
    "\n",
    "loss_function = nn.CrossEntropyLoss(class_weights) # softmax + nlll\n",
    "#loss_function = nn.MSELoss()"
   ]
  },
  {
   "cell_type": "code",
   "execution_count": 16,
   "metadata": {},
   "outputs": [],
   "source": [
    "def evaluate():\n",
    "    net.eval()\n",
    "\n",
    "    correct = 0\n",
    "    total = 0\n",
    "    running_loss = 0.0\n",
    "\n",
    "    with torch.no_grad():\n",
    "        for batch_index, batch in enumerate(valid_loader):\n",
    "            x_batch, y_batch = batch\n",
    "            x_batch, y_batch = x_batch.to(device), y_batch.to(device)\n",
    "            \n",
    "            # make predictions\n",
    "            predictions = net(x_batch)\n",
    "            # get loss\n",
    "            loss = loss_function(predictions, y_batch)\n",
    "            running_loss += loss.item()\n",
    "            \n",
    "            # count correct predictions\n",
    "            predicted_classes = torch.max(predictions.data, dim=1)[1]\n",
    "            total += y_batch.size(0)\n",
    "            correct += (predicted_classes == y_batch).sum().item()\n",
    "\n",
    "    net.train()\n",
    "    epoch_loss = running_loss / total\n",
    "    epoch_acc = correct / total\n",
    "    return epoch_loss, epoch_acc"
   ]
  },
  {
   "cell_type": "code",
   "execution_count": 17,
   "metadata": {},
   "outputs": [
    {
     "name": "stdout",
     "output_type": "stream",
     "text": [
      "[Epoch:   1] train_loss:   0.003 - train_acc:   56.31% | val_loss:   0.003 - val_acc:   61.18%\n",
      "[Epoch:   2] train_loss:   0.002 - train_acc:   69.20% | val_loss:   0.002 - val_acc:   63.50%\n",
      "[Epoch:   3] train_loss:   0.002 - train_acc:   78.13% | val_loss:   0.002 - val_acc:   66.05%\n",
      "[Epoch:   4] train_loss:   0.001 - train_acc:   84.20% | val_loss:   0.003 - val_acc:   68.00%\n",
      "[Epoch:   5] train_loss:   0.001 - train_acc:   88.38% | val_loss:   0.003 - val_acc:   69.63%\n",
      "[Epoch:   6] train_loss:   0.001 - train_acc:   90.99% | val_loss:   0.003 - val_acc:   68.78%\n",
      "[Epoch:   7] train_loss:   0.001 - train_acc:   92.24% | val_loss:   0.003 - val_acc:   70.31%\n",
      "[Epoch:   8] train_loss:   0.001 - train_acc:   93.35% | val_loss:   0.003 - val_acc:   70.60%\n",
      "[Epoch:   9] train_loss:   0.001 - train_acc:   94.02% | val_loss:   0.003 - val_acc:   71.41%\n",
      "[Epoch:  10] train_loss:   0.001 - train_acc:   94.31% | val_loss:   0.003 - val_acc:   71.72%\n",
      "[Epoch:  11] train_loss:   0.001 - train_acc:   94.61% | val_loss:   0.003 - val_acc:   71.42%\n",
      "[Epoch:  12] train_loss:   0.001 - train_acc:   94.84% | val_loss:   0.003 - val_acc:   70.29%\n",
      "[Epoch:  13] train_loss:   0.001 - train_acc:   95.16% | val_loss:   0.004 - val_acc:   72.44%\n",
      "[Epoch:  14] train_loss:   0.001 - train_acc:   95.15% | val_loss:   0.004 - val_acc:   71.50%\n",
      "[Epoch:  15] train_loss:   0.001 - train_acc:   95.23% | val_loss:   0.003 - val_acc:   71.67%\n",
      "[Epoch:  16] train_loss:   0.001 - train_acc:   95.38% | val_loss:   0.004 - val_acc:   72.04%\n",
      "[Epoch:  17] train_loss:   0.001 - train_acc:   95.39% | val_loss:   0.004 - val_acc:   71.97%\n",
      "[Epoch:  18] train_loss:   0.001 - train_acc:   95.33% | val_loss:   0.003 - val_acc:   71.34%\n",
      "[Epoch:  19] train_loss:   0.001 - train_acc:   95.49% | val_loss:   0.003 - val_acc:   71.00%\n",
      "[Epoch:  20] train_loss:   0.001 - train_acc:   95.41% | val_loss:   0.003 - val_acc:   71.63%\n",
      "[Epoch:  21] train_loss:   0.000 - train_acc:   95.57% | val_loss:   0.004 - val_acc:   71.87%\n",
      "[Epoch:  22] train_loss:   0.000 - train_acc:   95.49% | val_loss:   0.004 - val_acc:   72.20%\n",
      "[Epoch:  23] train_loss:   0.000 - train_acc:   95.59% | val_loss:   0.003 - val_acc:   70.18%\n",
      "[Epoch:  24] train_loss:   0.000 - train_acc:   95.55% | val_loss:   0.004 - val_acc:   71.57%\n",
      "[Epoch:  25] train_loss:   0.000 - train_acc:   95.63% | val_loss:   0.004 - val_acc:   71.88%\n",
      "[Epoch:  26] train_loss:   0.000 - train_acc:   95.54% | val_loss:   0.003 - val_acc:   70.08%\n",
      "[Epoch:  27] train_loss:   0.000 - train_acc:   95.59% | val_loss:   0.003 - val_acc:   70.42%\n",
      "[Epoch:  28] train_loss:   0.000 - train_acc:   95.58% | val_loss:   0.004 - val_acc:   71.83%\n",
      "[Epoch:  29] train_loss:   0.000 - train_acc:   95.66% | val_loss:   0.003 - val_acc:   71.81%\n",
      "[Epoch:  30] train_loss:   0.000 - train_acc:   95.61% | val_loss:   0.003 - val_acc:   70.89%\n"
     ]
    }
   ],
   "source": [
    "epochs = 30\n",
    "\n",
    "accuracies = []\n",
    "losses = []\n",
    "val_accuracies = []\n",
    "val_losses = []\n",
    "\n",
    "for epoch in range(epochs):\n",
    "    running_loss = 0.0\n",
    "    correct = 0\n",
    "    total = 0\n",
    "\n",
    "    for batch_index, batch in enumerate(train_loader):\n",
    "        sys.stdout.write(f'\\r[Epoch: {epoch + 1:3d}] {batch_index / len(train_loader) * 100:4.2f}%')\n",
    "        sys.stdout.flush()\n",
    "        x_batch, y_batch = batch\n",
    "        x_batch, y_batch = x_batch.to(device), y_batch.to(device)\n",
    "\n",
    "        # make predictions\n",
    "        predictions = net(x_batch)\n",
    "        # get loss\n",
    "        loss = loss_function(predictions, y_batch)\n",
    "        running_loss += loss.item()\n",
    "\n",
    "        # calculate gradients using the loss\n",
    "        optimizer.zero_grad()\n",
    "        loss.backward()\n",
    "        # perform optimizer step on the network parameters\n",
    "        optimizer.step()\n",
    "\n",
    "        # count correct predictions\n",
    "        predicted_classes = torch.max(predictions.data, dim=1)[1]\n",
    "        total += y_batch.size(0)\n",
    "        correct += (predicted_classes == y_batch).sum().item()\n",
    "\n",
    "    epoch_loss, epoch_acc = evaluate()\n",
    "    result = f'[Epoch: {epoch + 1:3d}] train_loss: {running_loss / total:7.3f}'\n",
    "    result += f' - train_acc: {100 * correct / total:7.2f}% |'\n",
    "    result += f' val_loss: {epoch_loss:7.3f} - val_acc: {100 * epoch_acc:7.2f}%'\n",
    "    sys.stdout.write(f'\\r{result}\\n')\n",
    "\n",
    "    accuracies.append(correct / total)\n",
    "    losses.append(running_loss / total)\n",
    "    val_accuracies.append(epoch_acc)\n",
    "    val_losses.append(epoch_loss)"
   ]
  },
  {
   "cell_type": "code",
   "execution_count": 18,
   "metadata": {},
   "outputs": [
    {
     "data": {
      "image/png": "[encoded data removed]",
      "text/plain": [
       "<Figure size 720x432 with 1 Axes>"
      ]
     },
     "metadata": {
      "needs_background": "light"
     },
     "output_type": "display_data"
    }
   ],
   "source": [
    "import matplotlib.pyplot as plt\n",
    "\n",
    "plt.figure(figsize=(10, 6))\n",
    "plt.plot(range(epochs), accuracies, label='train_acc')\n",
    "plt.plot(range(epochs), val_accuracies, label='val_acc')\n",
    "plt.ylim((0, 1))\n",
    "plt.legend()\n",
    "plt.show()"
   ]
  },
  {
   "cell_type": "code",
   "execution_count": 19,
   "metadata": {},
   "outputs": [
    {
     "data": {
      "image/png": "[encoded data removed]",
      "text/plain": [
       "<Figure size 720x432 with 1 Axes>"
      ]
     },
     "metadata": {
      "needs_background": "light"
     },
     "output_type": "display_data"
    }
   ],
   "source": [
    "plt.figure(figsize=(10, 6))\n",
    "plt.plot(range(epochs), losses, label='train_loss')\n",
    "plt.plot(range(epochs), val_losses, label='val_loss')\n",
    "plt.ylim((0, 0.03))\n",
    "plt.legend()\n",
    "plt.show()"
   ]
  },
  {
   "cell_type": "code",
   "execution_count": 20,
   "metadata": {},
   "outputs": [],
   "source": [
    "def confusion(class_labels, device):\n",
    "    n_classes = len(class_labels)\n",
    "    confusion_matrix = torch.zeros(n_classes, n_classes)\n",
    "    net.eval()\n",
    "    with torch.no_grad():\n",
    "        for i, (inputs, classes) in enumerate(valid_loader):\n",
    "            inputs = inputs.to(device)\n",
    "            classes = classes.to(device)\n",
    "            outputs = net(inputs)\n",
    "            predictions = torch.max(outputs, dim=1)[1]\n",
    "            for t, p in zip(classes.view(-1), predictions.view(-1)):\n",
    "                confusion_matrix[t.long(), p.long()] += 1\n",
    "\n",
    "    net.train()\n",
    "    confusion_matrix = confusion_matrix.numpy()\n",
    "    cm_df = pd.DataFrame(confusion_matrix, class_labels, class_labels)\n",
    "    sns.set(font_scale=1.1)\n",
    "    ax = sns.heatmap(cm_df, cmap='Oranges', annot=True, annot_kws={'size': 11}, cbar=False, fmt='g')\n",
    "    ax.set_xlabel('Actual')\n",
    "    ax.set_ylabel('Predicted')\n",
    "    ax.set_title('Confusion Matrix')\n",
    "    plt.show()"
   ]
  },
  {
   "cell_type": "code",
   "execution_count": 21,
   "metadata": {},
   "outputs": [
    {
     "data": {
      "image/png": "[encoded data removed]",
      "text/plain": [
       "<Figure size 432x288 with 1 Axes>"
      ]
     },
     "metadata": {},
     "output_type": "display_data"
    }
   ],
   "source": [
    "confusion(class_labels=['0', '1'], device=device)"
   ]
  },
  {
   "cell_type": "code",
   "execution_count": null,
   "metadata": {},
   "outputs": [],
   "source": []
  }
 ],
 "metadata": {
  "kernelspec": {
   "display_name": "Python 3",
   "language": "python",
   "name": "python3"
  },
  "language_info": {
   "codemirror_mode": {
    "name": "ipython",
    "version": 3
   },
   "file_extension": ".py",
   "mimetype": "text/x-python",
   "name": "python",
   "nbconvert_exporter": "python",
   "pygments_lexer": "ipython3",
   "version": "3.6.9"
  }
 },
 "nbformat": 4,
 "nbformat_minor": 4
}
