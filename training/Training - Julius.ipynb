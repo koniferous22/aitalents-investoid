{
 "cells": [
  {
   "cell_type": "code",
   "execution_count": 1,
   "metadata": {},
   "outputs": [],
   "source": [
    "import torch\n",
    "import sys\n",
    "import torch.nn as nn\n",
    "import torch.nn.functional as F\n",
    "import torch.optim as optim\n",
    "from torch.utils.data import DataLoader, Dataset\n",
    "\n",
    "from sklearn.model_selection import train_test_split\n",
    "from tensorflow.keras.preprocessing.text import Tokenizer\n",
    "from tensorflow.keras.preprocessing.sequence import pad_sequences\n",
    "from sklearn.utils import class_weight\n",
    "\n",
    "import numpy as np\n",
    "import pandas as pd\n",
    "\n",
    "import seaborn as sns"
   ]
  },
  {
   "cell_type": "code",
   "execution_count": 2,
   "metadata": {},
   "outputs": [],
   "source": [
    "# define random seeds for deterministic results\n",
    "seed = 4242\n",
    "np.random.seed(seed)\n",
    "torch.manual_seed(seed)\n",
    "torch.cuda.manual_seed_all(seed)\n",
    "torch.backends.cudnn.deterministic = True\n",
    "torch.backends.cudnn.benchmark = False"
   ]
  },
  {
   "cell_type": "code",
   "execution_count": 3,
   "metadata": {},
   "outputs": [
    {
     "name": "stdout",
     "output_type": "stream",
     "text": [
      "   Unnamed: 0                                              title  \\\n",
      "0           0  ANZ Bank New Zealand sells life insurance busi...   \n",
      "1           1  Australia's Westpac cleared of rate rigging bu...   \n",
      "2           2  Clear Channel Outdoor Holdings, Inc. Reports R...   \n",
      "\n",
      "   change_+1day  change_+1week  change_+1month  change_+3month  \\\n",
      "0     -2.279028       0.928909       -1.944386        9.508421   \n",
      "1     -0.698973      -1.491145        1.584344       -6.290767   \n",
      "2     -1.111115      -2.222220        3.333335        4.444440   \n",
      "\n",
      "   change_+6month  type_1_positive_change_+1day  \\\n",
      "0       22.969072                             0   \n",
      "1      -11.136997                             0   \n",
      "2       30.222225                             0   \n",
      "\n",
      "   type_1_positive_change_+1week  type_1_positive_change_+1month  \\\n",
      "0                              1                               0   \n",
      "1                              0                               1   \n",
      "2                              0                               1   \n",
      "\n",
      "   type_1_positive_change_+3month  type_1_positive_change_+6month  \n",
      "0                               1                               1  \n",
      "1                               0                               0  \n",
      "2                               1                               1  \n"
     ]
    }
   ],
   "source": [
    "# read data\n",
    "csv = pd.read_csv('training_w_labels1.csv')\n",
    "print(csv.head(3))\n",
    "texts = csv['title'].values\n",
    "labels = csv['type_1_positive_change_+1day'].values"
   ]
  },
  {
   "cell_type": "code",
   "execution_count": 4,
   "metadata": {},
   "outputs": [
    {
     "name": "stdout",
     "output_type": "stream",
     "text": [
      "examples: 55035\n",
      "labels: 55035\n"
     ]
    },
    {
     "data": {
      "text/plain": [
       "<matplotlib.axes._subplots.AxesSubplot at 0x7f4b62234390>"
      ]
     },
     "execution_count": 4,
     "metadata": {},
     "output_type": "execute_result"
    },
    {
     "data": {
      "image/png": "[encoded data removed]",
      "text/plain": [
       "<Figure size 432x288 with 1 Axes>"
      ]
     },
     "metadata": {
      "needs_background": "light"
     },
     "output_type": "display_data"
    }
   ],
   "source": [
    "print('examples:', len(texts))\n",
    "print('labels:', len(labels))\n",
    "\n",
    "sns.histplot(labels)"
   ]
  },
  {
   "cell_type": "code",
   "execution_count": 5,
   "metadata": {},
   "outputs": [],
   "source": [
    "def calculate_class_weights(labels, return_dict=True, first_class_index=0):\n",
    "    if isinstance(labels[0], list) or isinstance(labels[0], np.ndarray):\n",
    "        labels = [y.argmax() for y in labels]\n",
    "\n",
    "    class_weights = class_weight.compute_class_weight('balanced', classes=np.unique(labels), y=labels)\n",
    "    if return_dict:\n",
    "        weight_dict = {}\n",
    "        for key in range(len(class_weights)):\n",
    "            weight_dict[key + first_class_index] = class_weights[key]\n",
    "        return weight_dict\n",
    "    else:\n",
    "        return class_weights"
   ]
  },
  {
   "cell_type": "code",
   "execution_count": 6,
   "metadata": {},
   "outputs": [],
   "source": [
    "# input data restrictions\n",
    "vocabulary = 10000\n",
    "length = 15"
   ]
  },
  {
   "cell_type": "code",
   "execution_count": 7,
   "metadata": {},
   "outputs": [],
   "source": [
    "# copy this for tokenization\n",
    "# tokenizer texts (filters for punctuation)\n",
    "tokenizer = Tokenizer(num_words=vocabulary) # replace by torch.load(tokenizer, 'tokenizer.pt')\n",
    "tokenizer.fit_on_texts(texts)\n",
    "\n",
    "torch.save(tokenizer, 'tokenizer.pt')\n",
    "\n",
    "#if save_model:\n",
    "#    torch.save(tokenizer, f'models/{model_name}.tokenizer')\n",
    "\n",
    "# tansform texts to padded sequences\n",
    "sequences = tokenizer.texts_to_sequences(texts)\n",
    "sequences = pad_sequences(sequences, maxlen=length, truncating='post', padding='pre')\n",
    "\n",
    "# compute balanced class weights if needed\n",
    "class_weights = calculate_class_weights(labels=labels)\n",
    "\n",
    "# train / test split and shuffle\n",
    "x_train, x_test, y_train, y_test = train_test_split(sequences, labels, random_state=seed, test_size=0.2)"
   ]
  },
  {
   "cell_type": "code",
   "execution_count": 8,
   "metadata": {},
   "outputs": [
    {
     "name": "stdout",
     "output_type": "stream",
     "text": [
      "21171\n",
      "33864\n",
      "27517.5\n",
      "27517.499999999996\n"
     ]
    },
    {
     "data": {
      "text/plain": [
       "{0: 0.8125885896527285, 1: 1.299773274762647}"
      ]
     },
     "execution_count": 8,
     "metadata": {},
     "output_type": "execute_result"
    }
   ],
   "source": [
    "ones = sum(labels)\n",
    "zeros = len(labels) - ones\n",
    "print(ones)\n",
    "print(zeros)\n",
    "print(zeros * class_weights[0])\n",
    "print(ones * class_weights[1])\n",
    "class_weights"
   ]
  },
  {
   "cell_type": "code",
   "execution_count": 9,
   "metadata": {},
   "outputs": [],
   "source": [
    "class ArrayDataSet(Dataset):\n",
    "    def __init__(self, x, y, t):\n",
    "        self.X = torch.tensor(x, dtype=t)\n",
    "        self.Y = torch.tensor(y, dtype=t)\n",
    "\n",
    "    def __len__(self):\n",
    "        return len(self.X)\n",
    "\n",
    "    def __getitem__(self, index):\n",
    "        return (self.X[index], self.Y[index])"
   ]
  },
  {
   "cell_type": "code",
   "execution_count": 10,
   "metadata": {},
   "outputs": [],
   "source": [
    "batch_size = 256\n",
    "\n",
    "# setup data loaders for training and evaluation\n",
    "train_loader = DataLoader(dataset=ArrayDataSet(x=x_train, y=y_train, t=torch.long),\n",
    "                          batch_size=batch_size, shuffle=True, num_workers=2)\n",
    "valid_loader = DataLoader(dataset=ArrayDataSet(x=x_test, y=y_test, t=torch.long),\n",
    "                          batch_size=batch_size, shuffle=True, num_workers=2)"
   ]
  },
  {
   "cell_type": "code",
   "execution_count": 11,
   "metadata": {},
   "outputs": [],
   "source": [
    "features = 200\n",
    "# copy this class for model creation\n",
    "class ConvNet(nn.Module):\n",
    "    def __init__(self):\n",
    "        super(ConvNet, self).__init__()\n",
    "        self.embeddings = nn.Embedding(num_embeddings=vocabulary, embedding_dim=features)\n",
    "        self.convolutions = nn.ModuleList([nn.Conv2d(in_channels=1, out_channels=32, kernel_size=(3, features)),\n",
    "                                           nn.Conv2d(in_channels=1, out_channels=32, kernel_size=(5, features)),\n",
    "                                           nn.Conv2d(in_channels=1, out_channels=32, kernel_size=(10, features))])\n",
    "        #self.fc1 = nn.Linear(in_features=64 * len(self.convolutions), out_features=32)\n",
    "        self.fc2 = nn.Linear(in_features=32 * len(self.convolutions), out_features=2)\n",
    "\n",
    "    def forward(self, x):\n",
    "        x = self.embeddings(x)\n",
    "        x = torch.unsqueeze(x, dim=1)\n",
    "        xs = []\n",
    "        for convolution in self.convolutions:\n",
    "            c = F.softplus(convolution(x))\n",
    "            c = torch.squeeze(c)\n",
    "            c = F.max_pool1d(c, kernel_size=c.size()[2])\n",
    "            xs.append(c)\n",
    "        x = torch.cat(xs, dim=2)\n",
    "        x = x.view(x.size(0), -1)\n",
    "        #x = F.leaky_relu(self.fc1(x), negative_slope=0.1)\n",
    "        x = self.fc2(x)\n",
    "        return x"
   ]
  },
  {
   "cell_type": "code",
   "execution_count": 12,
   "metadata": {},
   "outputs": [],
   "source": [
    "class LSTMNet(nn.Module):\n",
    "    def __init__(self):\n",
    "        super(LSTMNet, self).__init__()\n",
    "        self.embeddings = nn.Embedding(num_embeddings=vocabulary, embedding_dim=features)\n",
    "        self.lstm_1 = nn.LSTM(input_size=features, hidden_size=32, num_layers=3, dropout=0.125,\n",
    "                              bidirectional=True, batch_first=True)\n",
    "        # self.lstm_2 = nn.LSTM(input_size=32 * length, hidden_size=32, num_layers=1, dropout=0.125,\n",
    "        #                       bidirectional=True, batch_first=True)\n",
    "        #self.fc1 = nn.Linear(in_features=256, out_features=64)\n",
    "        self.fc2 = nn.Linear(in_features=64, out_features=2)\n",
    "\n",
    "    def forward(self, x):\n",
    "        # print(x.shape)\n",
    "        x = self.embeddings(x)\n",
    "        # print(x.shape)\n",
    "        x, _ = self.lstm_1(x)\n",
    "        # print(x.shape)\n",
    "        x = x[:, -1, :]\n",
    "        # h = torch.cat(h, dim=1)\n",
    "        # print('h:', h.shape)\n",
    "        # print(x.shape)\n",
    "        # x = x.reshape(x.shape[0], -1)\n",
    "        # print(x.shape)\n",
    "        # x, h = self.lstm_2(x)\n",
    "        # print(x.shape)\n",
    "        #x = self.fc1(x)\n",
    "        # print(x.shape)\n",
    "        x = self.fc2(x)\n",
    "        # print(x.shape)\n",
    "        return x"
   ]
  },
  {
   "cell_type": "code",
   "execution_count": 13,
   "metadata": {},
   "outputs": [],
   "source": [
    "device = 'cuda' # change to cpu for cpu and cuda for gpu training\n",
    "# instantiate model (cpu is good enough for inference)\n",
    "net = ConvNet().to(device)"
   ]
  },
  {
   "cell_type": "code",
   "execution_count": 14,
   "metadata": {},
   "outputs": [
    {
     "name": "stdout",
     "output_type": "stream",
     "text": [
      "torch.Size([256, 2])\n"
     ]
    }
   ],
   "source": [
    "# run this on cpu to test inference speed\n",
    "t = torch.rand(batch_size, length).long().to(device)\n",
    "p = net(t)\n",
    "print(p.shape)"
   ]
  },
  {
   "cell_type": "code",
   "execution_count": 15,
   "metadata": {},
   "outputs": [],
   "source": [
    "optimizer = optim.Adam(net.parameters(), lr=0.001)\n",
    "#optimizer = optim.SGD(net.parameters(), lr=0.001, momentum=0.5)\n",
    "#optimizer = optim.RMSprop(net.parameters(), lr=0.001, alpha=0.9, eps=1e-07)\n",
    "class_weights = torch.tensor(list(class_weights.values())).type(torch.FloatTensor).to(device)\n",
    "\n",
    "loss_function = nn.CrossEntropyLoss(class_weights) # softmax + nlll\n",
    "#loss_function = nn.MSELoss()"
   ]
  },
  {
   "cell_type": "code",
   "execution_count": 16,
   "metadata": {},
   "outputs": [],
   "source": [
    "def evaluate():\n",
    "    net.eval()\n",
    "\n",
    "    correct = 0\n",
    "    total = 0\n",
    "    running_loss = 0.0\n",
    "\n",
    "    with torch.no_grad():\n",
    "        for batch_index, batch in enumerate(valid_loader):\n",
    "            x_batch, y_batch = batch\n",
    "            x_batch, y_batch = x_batch.to(device), y_batch.to(device)\n",
    "            \n",
    "            # make predictions\n",
    "            predictions = net(x_batch)\n",
    "            # get loss\n",
    "            loss = loss_function(predictions, y_batch)\n",
    "            running_loss += loss.item()\n",
    "            \n",
    "            # count correct predictions\n",
    "            predicted_classes = torch.max(predictions.data, dim=1)[1]\n",
    "            total += y_batch.size(0)\n",
    "            correct += (predicted_classes == y_batch).sum().item()\n",
    "\n",
    "    net.train()\n",
    "    epoch_loss = running_loss / total\n",
    "    epoch_acc = correct / total\n",
    "    return epoch_loss, epoch_acc"
   ]
  },
  {
   "cell_type": "code",
   "execution_count": 17,
   "metadata": {},
   "outputs": [
    {
     "name": "stdout",
     "output_type": "stream",
     "text": [
      "[Epoch:   1] train_loss:   0.003 - train_acc:   56.31% | val_loss:   0.003 - val_acc:   61.18%\n",
      "[Epoch:   2] train_loss:   0.002 - train_acc:   69.20% | val_loss:   0.002 - val_acc:   63.50%\n",
      "[Epoch:   3] train_loss:   0.002 - train_acc:   78.13% | val_loss:   0.002 - val_acc:   66.05%\n",
      "[Epoch:   4] train_loss:   0.001 - train_acc:   84.20% | val_loss:   0.003 - val_acc:   68.00%\n",
      "[Epoch:   5] train_loss:   0.001 - train_acc:   88.38% | val_loss:   0.003 - val_acc:   69.63%\n",
      "[Epoch:   6] train_loss:   0.001 - train_acc:   90.99% | val_loss:   0.003 - val_acc:   68.78%\n",
      "[Epoch:   7] train_loss:   0.001 - train_acc:   92.24% | val_loss:   0.003 - val_acc:   70.31%\n",
      "[Epoch:   8] train_loss:   0.001 - train_acc:   93.35% | val_loss:   0.003 - val_acc:   70.60%\n",
      "[Epoch:   9] train_loss:   0.001 - train_acc:   94.02% | val_loss:   0.003 - val_acc:   71.41%\n",
      "[Epoch:  10] train_loss:   0.001 - train_acc:   94.31% | val_loss:   0.003 - val_acc:   71.72%\n"
     ]
    }
   ],
   "source": [
    "epochs = 10\n",
    "\n",
    "accuracies = []\n",
    "losses = []\n",
    "val_accuracies = []\n",
    "val_losses = []\n",
    "\n",
    "for epoch in range(epochs):\n",
    "    running_loss = 0.0\n",
    "    correct = 0\n",
    "    total = 0\n",
    "\n",
    "    for batch_index, batch in enumerate(train_loader):\n",
    "        sys.stdout.write(f'\\r[Epoch: {epoch + 1:3d}] {batch_index / len(train_loader) * 100:4.2f}%')\n",
    "        sys.stdout.flush()\n",
    "        x_batch, y_batch = batch\n",
    "        x_batch, y_batch = x_batch.to(device), y_batch.to(device)\n",
    "\n",
    "        # make predictions\n",
    "        predictions = net(x_batch)\n",
    "        # get loss\n",
    "        loss = loss_function(predictions, y_batch)\n",
    "        running_loss += loss.item()\n",
    "\n",
    "        # calculate gradients using the loss\n",
    "        optimizer.zero_grad()\n",
    "        loss.backward()\n",
    "        # perform optimizer step on the network parameters\n",
    "        optimizer.step()\n",
    "\n",
    "        # count correct predictions\n",
    "        predicted_classes = torch.max(predictions.data, dim=1)[1]\n",
    "        total += y_batch.size(0)\n",
    "        correct += (predicted_classes == y_batch).sum().item()\n",
    "\n",
    "    epoch_loss, epoch_acc = evaluate()\n",
    "    result = f'[Epoch: {epoch + 1:3d}] train_loss: {running_loss / total:7.3f}'\n",
    "    result += f' - train_acc: {100 * correct / total:7.2f}% |'\n",
    "    result += f' val_loss: {epoch_loss:7.3f} - val_acc: {100 * epoch_acc:7.2f}%'\n",
    "    sys.stdout.write(f'\\r{result}\\n')\n",
    "\n",
    "    accuracies.append(correct / total)\n",
    "    losses.append(running_loss / total)\n",
    "    val_accuracies.append(epoch_acc)\n",
    "    val_losses.append(epoch_loss)"
   ]
  },
  {
   "cell_type": "code",
   "execution_count": 18,
   "metadata": {},
   "outputs": [
    {
     "data": {
      "image/png": "[encoded data removed]",
      "text/plain": [
       "<Figure size 720x432 with 1 Axes>"
      ]
     },
     "metadata": {
      "needs_background": "light"
     },
     "output_type": "display_data"
    }
   ],
   "source": [
    "import matplotlib.pyplot as plt\n",
    "\n",
    "plt.figure(figsize=(10, 6))\n",
    "plt.plot(range(epochs), accuracies, label='train_acc')\n",
    "plt.plot(range(epochs), val_accuracies, label='val_acc')\n",
    "plt.ylim((0, 1))\n",
    "plt.legend()\n",
    "plt.show()"
   ]
  },
  {
   "cell_type": "code",
   "execution_count": 19,
   "metadata": {},
   "outputs": [
    {
     "data": {
      "image/png": "[encoded data removed]",
      "text/plain": [
       "<Figure size 720x432 with 1 Axes>"
      ]
     },
     "metadata": {
      "needs_background": "light"
     },
     "output_type": "display_data"
    }
   ],
   "source": [
    "plt.figure(figsize=(10, 6))\n",
    "plt.plot(range(epochs), losses, label='train_loss')\n",
    "plt.plot(range(epochs), val_losses, label='val_loss')\n",
    "plt.ylim((0, 0.03))\n",
    "plt.legend()\n",
    "plt.show()"
   ]
  },
  {
   "cell_type": "code",
   "execution_count": 20,
   "metadata": {},
   "outputs": [],
   "source": [
    "def confusion(class_labels, device):\n",
    "    n_classes = len(class_labels)\n",
    "    confusion_matrix = torch.zeros(n_classes, n_classes)\n",
    "    net.eval()\n",
    "    with torch.no_grad():\n",
    "        for i, (inputs, classes) in enumerate(valid_loader):\n",
    "            inputs = inputs.to(device)\n",
    "            classes = classes.to(device)\n",
    "            outputs = net(inputs)\n",
    "            predictions = torch.max(outputs, dim=1)[1]\n",
    "            for t, p in zip(classes.view(-1), predictions.view(-1)):\n",
    "                confusion_matrix[t.long(), p.long()] += 1\n",
    "\n",
    "    net.train()\n",
    "    confusion_matrix = confusion_matrix.numpy()\n",
    "    cm_df = pd.DataFrame(confusion_matrix, class_labels, class_labels)\n",
    "    sns.set(font_scale=1.1)\n",
    "    ax = sns.heatmap(cm_df, cmap='Oranges', annot=True, annot_kws={'size': 11}, cbar=False, fmt='g')\n",
    "    ax.set_xlabel('Actual')\n",
    "    ax.set_ylabel('Predicted')\n",
    "    ax.set_title('Confusion Matrix')\n",
    "    plt.show()"
   ]
  },
  {
   "cell_type": "code",
   "execution_count": 21,
   "metadata": {},
   "outputs": [
    {
     "data": {
      "image/png": "[encoded data removed]",
      "text/plain": [
       "<Figure size 432x288 with 1 Axes>"
      ]
     },
     "metadata": {},
     "output_type": "display_data"
    }
   ],
   "source": [
    "confusion(class_labels=['0', '1'], device=device)"
   ]
  },
  {
   "cell_type": "code",
   "execution_count": 25,
   "metadata": {},
   "outputs": [
    {
     "data": {
      "text/plain": [
       "<All keys matched successfully>"
      ]
     },
     "execution_count": 25,
     "metadata": {},
     "output_type": "execute_result"
    }
   ],
   "source": [
    "net.to('cpu')\n",
    "torch.save(net.state_dict(), 'model_params_day.pt')\n",
    "net.load_state_dict(torch.load('model_params_day.pt'))"
   ]
  },
  {
   "cell_type": "code",
   "execution_count": 26,
   "metadata": {},
   "outputs": [
    {
     "data": {
      "text/plain": [
       "OrderedDict([('embeddings.weight',\n",
       "              tensor([[ 0.3840, -0.7553, -0.0821,  ...,  2.0833, -0.2887, -0.2418],\n",
       "                      [ 1.4390,  0.5564,  0.4038,  ...,  0.3995, -0.9365, -0.1929],\n",
       "                      [ 0.1453, -0.8174,  0.0661,  ...,  1.0654,  1.3825, -0.5117],\n",
       "                      ...,\n",
       "                      [-0.2126,  1.3479, -3.0302,  ...,  0.4572, -0.2056, -0.8039],\n",
       "                      [ 1.0023,  0.0917, -0.5318,  ..., -1.0999,  0.9939, -0.5868],\n",
       "                      [-0.5095,  0.3560,  0.7302,  ...,  0.3085, -1.2259, -1.2547]])),\n",
       "             ('convolutions.0.weight',\n",
       "              tensor([[[[-0.1041,  0.0643,  0.0815,  ..., -0.0890, -0.0526,  0.0700],\n",
       "                        [ 0.0091, -0.0841, -0.0812,  ..., -0.1046, -0.0235, -0.1067],\n",
       "                        [ 0.0050,  0.0563,  0.0437,  ..., -0.0382, -0.0449, -0.1185]]],\n",
       "              \n",
       "              \n",
       "                      [[[ 0.0113,  0.0061, -0.0003,  ...,  0.0156,  0.0551,  0.0293],\n",
       "                        [ 0.0361,  0.0079, -0.0999,  ...,  0.0535, -0.0233,  0.0280],\n",
       "                        [ 0.0259, -0.0439,  0.0608,  ..., -0.0444, -0.0498,  0.0268]]],\n",
       "              \n",
       "              \n",
       "                      [[[ 0.0364, -0.0197, -0.0344,  ...,  0.0119, -0.0009, -0.1151],\n",
       "                        [ 0.0478,  0.0135,  0.1094,  ...,  0.0699, -0.0122, -0.0604],\n",
       "                        [-0.0609,  0.0318, -0.0004,  ..., -0.0344,  0.1177,  0.0243]]],\n",
       "              \n",
       "              \n",
       "                      ...,\n",
       "              \n",
       "              \n",
       "                      [[[-0.0045, -0.0701, -0.0195,  ...,  0.0633,  0.0034, -0.0121],\n",
       "                        [ 0.0026, -0.0854,  0.0690,  ..., -0.0322, -0.0273,  0.0686],\n",
       "                        [ 0.0373, -0.0215,  0.0531,  ..., -0.0384, -0.0468, -0.1025]]],\n",
       "              \n",
       "              \n",
       "                      [[[-0.0895, -0.0080, -0.0836,  ...,  0.1046,  0.0151, -0.0676],\n",
       "                        [ 0.0207,  0.0033, -0.0196,  ..., -0.0412,  0.0096,  0.0814],\n",
       "                        [ 0.0375,  0.1292, -0.0483,  ...,  0.0152, -0.0827, -0.0840]]],\n",
       "              \n",
       "              \n",
       "                      [[[-0.0381, -0.0478, -0.0177,  ..., -0.0772,  0.1211,  0.1120],\n",
       "                        [-0.1023,  0.0387, -0.0348,  ..., -0.0338,  0.1197,  0.1284],\n",
       "                        [ 0.0076,  0.0254,  0.0081,  ..., -0.0978, -0.0989, -0.0735]]]])),\n",
       "             ('convolutions.0.bias',\n",
       "              tensor([ 0.0417,  0.0292,  0.0169,  0.0192,  0.0132,  0.0305,  0.0363,  0.0007,\n",
       "                      -0.0224,  0.0588,  0.0551,  0.0325, -0.0062,  0.0422,  0.0170,  0.0267,\n",
       "                       0.0334,  0.0410,  0.0290, -0.0188, -0.0167,  0.0082,  0.0529, -0.0160,\n",
       "                       0.0082,  0.0179,  0.0171,  0.0170,  0.0162,  0.0437,  0.0520,  0.0486])),\n",
       "             ('convolutions.1.weight',\n",
       "              tensor([[[[-0.0374,  0.0360, -0.0594,  ..., -0.0273, -0.0625,  0.0185],\n",
       "                        [ 0.0415, -0.0268,  0.0266,  ..., -0.0111, -0.0190,  0.1017],\n",
       "                        [-0.0376,  0.1032,  0.0596,  ...,  0.1180,  0.0240, -0.1074],\n",
       "                        [-0.0390, -0.0292,  0.0493,  ..., -0.0466, -0.0169,  0.0643],\n",
       "                        [ 0.1405, -0.0375,  0.0328,  ..., -0.0374,  0.1152, -0.0186]]],\n",
       "              \n",
       "              \n",
       "                      [[[-0.0225, -0.0739,  0.0648,  ..., -0.0084, -0.0566,  0.0492],\n",
       "                        [-0.0792, -0.0401,  0.0317,  ..., -0.0432, -0.0794, -0.0624],\n",
       "                        [ 0.0962, -0.0560, -0.0837,  ..., -0.0243,  0.0382,  0.0335],\n",
       "                        [-0.0353, -0.0315,  0.0008,  ...,  0.1266, -0.0342,  0.0617],\n",
       "                        [-0.0096,  0.0368, -0.0154,  ..., -0.0116, -0.0626, -0.0536]]],\n",
       "              \n",
       "              \n",
       "                      [[[-0.0256, -0.0121, -0.0356,  ..., -0.0232,  0.0057, -0.0927],\n",
       "                        [ 0.0263, -0.0110,  0.1226,  ...,  0.0854, -0.0330, -0.0812],\n",
       "                        [-0.1067, -0.0528, -0.1007,  ...,  0.0383,  0.0739,  0.0100],\n",
       "                        [-0.0173, -0.0519,  0.0185,  ..., -0.0021,  0.0507, -0.0058],\n",
       "                        [ 0.0051,  0.0297, -0.0124,  ...,  0.0109,  0.0064,  0.0145]]],\n",
       "              \n",
       "              \n",
       "                      ...,\n",
       "              \n",
       "              \n",
       "                      [[[ 0.0785,  0.0072, -0.0399,  ...,  0.0342,  0.1196,  0.0635],\n",
       "                        [ 0.0071, -0.0497, -0.0268,  ...,  0.0273, -0.0468, -0.0066],\n",
       "                        [-0.0401,  0.0904,  0.0987,  ..., -0.0207,  0.0574, -0.0017],\n",
       "                        [ 0.0165,  0.0214, -0.0648,  ..., -0.0535, -0.0546, -0.0261],\n",
       "                        [ 0.0278, -0.0294,  0.0219,  ...,  0.0002, -0.0560, -0.0742]]],\n",
       "              \n",
       "              \n",
       "                      [[[-0.1156, -0.0581,  0.0699,  ..., -0.0095,  0.0391, -0.0214],\n",
       "                        [ 0.0143, -0.0197, -0.0451,  ..., -0.0171,  0.0508, -0.0217],\n",
       "                        [ 0.0457,  0.0586, -0.0280,  ...,  0.1073,  0.0216, -0.0114],\n",
       "                        [ 0.0188, -0.0072, -0.0534,  ..., -0.0731, -0.0212,  0.0193],\n",
       "                        [-0.0965,  0.0782, -0.0351,  ..., -0.0271, -0.0592,  0.1062]]],\n",
       "              \n",
       "              \n",
       "                      [[[-0.0606, -0.0079, -0.0090,  ...,  0.0062, -0.0032, -0.0528],\n",
       "                        [ 0.0569, -0.0497,  0.0114,  ..., -0.0541,  0.0257,  0.0172],\n",
       "                        [-0.0087,  0.0516, -0.0121,  ..., -0.0018,  0.0455, -0.0512],\n",
       "                        [ 0.0486,  0.0273, -0.0403,  ...,  0.0069, -0.0528,  0.0260],\n",
       "                        [-0.0392,  0.0123, -0.0308,  ..., -0.0296, -0.1381, -0.0141]]]])),\n",
       "             ('convolutions.1.bias',\n",
       "              tensor([ 0.0129,  0.0192,  0.0144,  0.0445, -0.0257,  0.0347,  0.0287, -0.0023,\n",
       "                       0.0427,  0.0291,  0.0250, -0.0148,  0.0441,  0.0215, -0.0098, -0.0123,\n",
       "                       0.0405, -0.0181,  0.0145,  0.0104, -0.0068,  0.0113,  0.0325,  0.0011,\n",
       "                       0.0532,  0.0435,  0.0085,  0.0538,  0.0198, -0.0336,  0.0219,  0.0582])),\n",
       "             ('convolutions.2.weight',\n",
       "              tensor([[[[ 0.0647,  0.0036,  0.0200,  ...,  0.0009,  0.0063,  0.0019],\n",
       "                        [ 0.0211,  0.0367, -0.0548,  ..., -0.0346, -0.1405, -0.0291],\n",
       "                        [-0.0399, -0.0041, -0.0103,  ...,  0.0217, -0.0172,  0.0185],\n",
       "                        ...,\n",
       "                        [-0.0031, -0.0289,  0.0469,  ...,  0.0309, -0.0014,  0.0227],\n",
       "                        [-0.0314,  0.0272,  0.0422,  ...,  0.0465, -0.0683,  0.0028],\n",
       "                        [ 0.0300, -0.0152,  0.0322,  ..., -0.0202,  0.0580,  0.0378]]],\n",
       "              \n",
       "              \n",
       "                      [[[ 0.0043,  0.0488, -0.0704,  ...,  0.0138,  0.0431, -0.0204],\n",
       "                        [-0.0632,  0.0298, -0.0041,  ..., -0.0373, -0.0033, -0.1499],\n",
       "                        [-0.0175,  0.0442,  0.0309,  ...,  0.0100,  0.0688,  0.0228],\n",
       "                        ...,\n",
       "                        [-0.0929, -0.0769, -0.0376,  ...,  0.0270,  0.0182,  0.0338],\n",
       "                        [ 0.0691,  0.0435,  0.0123,  ...,  0.0216, -0.0011, -0.0635],\n",
       "                        [-0.0400,  0.0858,  0.0294,  ...,  0.0365,  0.0847, -0.0913]]],\n",
       "              \n",
       "              \n",
       "                      [[[-0.0970,  0.0481, -0.0135,  ..., -0.0257, -0.0250, -0.0978],\n",
       "                        [-0.0599,  0.0546,  0.0622,  ...,  0.0179,  0.0964, -0.0143],\n",
       "                        [ 0.0746,  0.0842,  0.0326,  ..., -0.0552,  0.0172, -0.0172],\n",
       "                        ...,\n",
       "                        [ 0.0193, -0.0776, -0.0557,  ...,  0.0683,  0.0233, -0.0454],\n",
       "                        [ 0.0494,  0.0313,  0.0176,  ..., -0.0310, -0.0045,  0.0719],\n",
       "                        [-0.0232,  0.0577,  0.0405,  ...,  0.0460, -0.0348,  0.0230]]],\n",
       "              \n",
       "              \n",
       "                      ...,\n",
       "              \n",
       "              \n",
       "                      [[[-0.0135,  0.0639,  0.0205,  ..., -0.0137,  0.0357, -0.0319],\n",
       "                        [ 0.0283,  0.0198, -0.0954,  ..., -0.0432,  0.0170, -0.0119],\n",
       "                        [-0.0456, -0.0487, -0.0515,  ...,  0.0158, -0.0599, -0.0225],\n",
       "                        ...,\n",
       "                        [ 0.0272,  0.0301,  0.0344,  ..., -0.0576, -0.0472,  0.0084],\n",
       "                        [-0.0488,  0.0289,  0.0021,  ..., -0.0389,  0.0382, -0.0127],\n",
       "                        [-0.0383, -0.0040,  0.0325,  ..., -0.0878, -0.0855, -0.1008]]],\n",
       "              \n",
       "              \n",
       "                      [[[-0.1357,  0.0330, -0.0180,  ...,  0.0051, -0.0315,  0.1109],\n",
       "                        [-0.0621,  0.0118, -0.0108,  ..., -0.0436, -0.0245, -0.0150],\n",
       "                        [ 0.0873,  0.0115,  0.1049,  ..., -0.0118,  0.0763, -0.0092],\n",
       "                        ...,\n",
       "                        [-0.0242,  0.0294, -0.0608,  ..., -0.0038,  0.0840, -0.0385],\n",
       "                        [-0.0761, -0.0499,  0.0025,  ...,  0.0221,  0.0066, -0.0793],\n",
       "                        [ 0.0070,  0.0566,  0.0006,  ..., -0.0204,  0.0420, -0.0361]]],\n",
       "              \n",
       "              \n",
       "                      [[[ 0.0836, -0.0952,  0.0840,  ...,  0.0370,  0.0871, -0.0394],\n",
       "                        [-0.0949,  0.0301, -0.0128,  ..., -0.0175,  0.1017, -0.0199],\n",
       "                        [ 0.0100,  0.0487, -0.0705,  ..., -0.1106,  0.0719,  0.0181],\n",
       "                        ...,\n",
       "                        [ 0.0299, -0.0513,  0.0554,  ...,  0.0361,  0.1237, -0.0376],\n",
       "                        [-0.0610,  0.0016, -0.1062,  ..., -0.0192,  0.0173,  0.0439],\n",
       "                        [-0.0112,  0.1156,  0.0587,  ..., -0.0115, -0.0284,  0.0075]]]])),\n",
       "             ('convolutions.2.bias',\n",
       "              tensor([ 0.0376, -0.0054, -0.0060,  0.0372,  0.0136,  0.0169,  0.0071,  0.0169,\n",
       "                       0.0244,  0.0328,  0.0347, -0.0156,  0.0365,  0.0409, -0.0228,  0.0192,\n",
       "                       0.0262, -0.0068,  0.0207,  0.0030, -0.0420,  0.0225, -0.0181,  0.0005,\n",
       "                       0.0104, -0.0132, -0.0293,  0.0169, -0.0206,  0.0125,  0.0028, -0.0132])),\n",
       "             ('fc2.weight',\n",
       "              tensor([[ 0.1076,  0.0708, -0.1251, -0.0640,  0.0256,  0.0374,  0.0717,  0.1425,\n",
       "                        0.1201, -0.0442,  0.1614, -0.1315, -0.1550,  0.0363, -0.1173,  0.0194,\n",
       "                        0.1376,  0.1825,  0.1514, -0.0170,  0.1505,  0.0234,  0.1629, -0.1066,\n",
       "                       -0.1129,  0.1525,  0.1004, -0.1148, -0.0641, -0.1282,  0.1182,  0.0030,\n",
       "                       -0.0912,  0.0535,  0.0922,  0.0237,  0.0646, -0.1960, -0.1016, -0.1372,\n",
       "                       -0.1275, -0.1275,  0.1432,  0.0602,  0.1496, -0.0287,  0.0065,  0.1417,\n",
       "                        0.0349, -0.0922, -0.1543, -0.1498, -0.0329, -0.1125, -0.0871, -0.0359,\n",
       "                        0.0636, -0.0028, -0.0113,  0.1412,  0.0133,  0.0649, -0.0652, -0.0405,\n",
       "                       -0.1755,  0.1262,  0.1434, -0.1423, -0.0127,  0.1378,  0.0720, -0.1688,\n",
       "                       -0.0169,  0.1279, -0.1274, -0.1155, -0.1057,  0.0541, -0.0091,  0.0236,\n",
       "                       -0.0275,  0.1143, -0.1230, -0.1366, -0.1201,  0.0886,  0.0789, -0.1156,\n",
       "                        0.0757,  0.1299, -0.1236,  0.1230,  0.0915,  0.0370, -0.1174,  0.1091],\n",
       "                      [-0.0579, -0.0728,  0.1686,  0.0843, -0.1579, -0.1708, -0.1048, -0.0375,\n",
       "                       -0.0728,  0.1326, -0.0262,  0.1057,  0.0806, -0.0900,  0.1035, -0.0941,\n",
       "                       -0.1482, -0.0343, -0.0617,  0.1778, -0.0478, -0.1458, -0.1141,  0.0839,\n",
       "                        0.0826, -0.0623, -0.1575,  0.0235,  0.0680,  0.1312, -0.1354,  0.1329,\n",
       "                        0.1252, -0.1540, -0.0810,  0.1666, -0.1473,  0.1140,  0.1415, -0.0216,\n",
       "                        0.1325,  0.1564, -0.1231, -0.0577, -0.0602,  0.1450, -0.1519, -0.1152,\n",
       "                       -0.0526,  0.1503,  0.1333,  0.0148,  0.1193,  0.0836,  0.0965,  0.1703,\n",
       "                       -0.1620, -0.1477,  0.1726, -0.1614, -0.1562, -0.1030,  0.0703,  0.0768,\n",
       "                        0.1304, -0.0971, -0.1618,  0.0631,  0.1145, -0.0474, -0.1328,  0.0589,\n",
       "                        0.1009, -0.1163,  0.0673,  0.1498,  0.0914, -0.1308, -0.1445, -0.1278,\n",
       "                       -0.1032, -0.0907,  0.1574,  0.1655,  0.0495, -0.1699, -0.1099,  0.1302,\n",
       "                       -0.0559, -0.1481,  0.0663, -0.1024, -0.1109, -0.0814,  0.0942, -0.1057]])),\n",
       "             ('fc2.bias', tensor([-0.0263,  0.0135]))])"
      ]
     },
     "execution_count": 26,
     "metadata": {},
     "output_type": "execute_result"
    }
   ],
   "source": [
    "net.state_dict()"
   ]
  },
  {
   "cell_type": "code",
   "execution_count": null,
   "metadata": {},
   "outputs": [],
   "source": []
  }
 ],
 "metadata": {
  "kernelspec": {
   "display_name": "Python 3",
   "language": "python",
   "name": "python3"
  },
  "language_info": {
   "codemirror_mode": {
    "name": "ipython",
    "version": 3
   },
   "file_extension": ".py",
   "mimetype": "text/x-python",
   "name": "python",
   "nbconvert_exporter": "python",
   "pygments_lexer": "ipython3",
   "version": "3.6.9"
  }
 },
 "nbformat": 4,
 "nbformat_minor": 4
}
