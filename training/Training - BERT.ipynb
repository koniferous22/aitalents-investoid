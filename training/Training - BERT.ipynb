{
 "cells": [
  {
   "cell_type": "code",
   "execution_count": 1,
   "metadata": {},
   "outputs": [],
   "source": [
    "import tensorflow\n",
    "import ktrain\n",
    "from ktrain import text\n",
    "import pandas as pd\n",
    "from sklearn.model_selection import train_test_split\n",
    "import seaborn as sns\n",
    "import os"
   ]
  },
  {
   "cell_type": "code",
   "execution_count": 2,
   "metadata": {},
   "outputs": [],
   "source": [
    "seed = 4242\n",
    "os.environ['CUDA_DEVICE_ORDER'] = 'PCI_BUS_ID'\n",
    "os.environ['CUDA_VISIBLE_DEVICES'] = '0'"
   ]
  },
  {
   "cell_type": "code",
   "execution_count": 3,
   "metadata": {},
   "outputs": [
    {
     "name": "stdout",
     "output_type": "stream",
     "text": [
      "   Unnamed: 0                                              title  \\\n",
      "0           0  ANZ Bank New Zealand sells life insurance busi...   \n",
      "1           1  Australia's Westpac cleared of rate rigging bu...   \n",
      "2           2  Clear Channel Outdoor Holdings, Inc. Reports R...   \n",
      "3           3  Clear Channel Outdoor Holdings, Inc. Reports R...   \n",
      "4           4   BRIEF-Pembina Pipeline Corp Reports Q1 EPS $0.59   \n",
      "\n",
      "   positive_change_+1day  negative_change_+1day  positive_change_+1week  \\\n",
      "0                      0                      1                       1   \n",
      "1                      0                      1                       0   \n",
      "2                      0                      1                       0   \n",
      "3                      0                      1                       0   \n",
      "4                      0                      1                       1   \n",
      "\n",
      "   negative_change_+1week  \n",
      "0                       0  \n",
      "1                       1  \n",
      "2                       1  \n",
      "3                       1  \n",
      "4                       0  \n"
     ]
    }
   ],
   "source": [
    "csv_file = 'bert_training_data.csv'\n",
    "data = pd.read_csv(csv_file)\n",
    "print(data.head(5))"
   ]
  },
  {
   "cell_type": "code",
   "execution_count": 4,
   "metadata": {},
   "outputs": [],
   "source": [
    "epochs = 15\n",
    "learning_rate = 2e-4\n",
    "batch_size = 265\n",
    "max_length = 17\n",
    "max_words = 10000"
   ]
  },
  {
   "cell_type": "code",
   "execution_count": 5,
   "metadata": {},
   "outputs": [],
   "source": [
    "sequences = data['title'].values\n",
    "labels = data[['positive_change_+1day', 'negative_change_+1day']].values\n",
    "\n",
    "x_train, x_test, y_train, y_test = train_test_split(sequences, labels, random_state=seed, test_size=0.2)"
   ]
  },
  {
   "cell_type": "code",
   "execution_count": 6,
   "metadata": {},
   "outputs": [
    {
     "name": "stdout",
     "output_type": "stream",
     "text": [
      "preprocessing train...\n",
      "language: en\n",
      "train sequence lengths:\n",
      "\tmean : 11\n",
      "\t95percentile : 17\n",
      "\t99percentile : 24\n"
     ]
    },
    {
     "data": {
      "text/html": [],
      "text/plain": [
       "<IPython.core.display.HTML object>"
      ]
     },
     "metadata": {},
     "output_type": "display_data"
    },
    {
     "name": "stdout",
     "output_type": "stream",
     "text": [
      "Is Multi-Label? False\n",
      "preprocessing test...\n",
      "language: en\n",
      "test sequence lengths:\n",
      "\tmean : 11\n",
      "\t95percentile : 18\n",
      "\t99percentile : 24\n"
     ]
    },
    {
     "data": {
      "text/html": [],
      "text/plain": [
       "<IPython.core.display.HTML object>"
      ]
     },
     "metadata": {},
     "output_type": "display_data"
    }
   ],
   "source": [
    "MODEL = 'distilbert-base-uncased'\n",
    "class_names = ['negative', 'positive']\n",
    "\n",
    "transformer = text.Transformer(MODEL, maxlen=max_length, class_names=class_names)\n",
    "train_data = transformer.preprocess_train(x_train, y_train)\n",
    "val_data = transformer.preprocess_test(x_test, y_test)"
   ]
  },
  {
   "cell_type": "code",
   "execution_count": 7,
   "metadata": {},
   "outputs": [],
   "source": [
    "model = transformer.get_classifier()\n",
    "learner = ktrain.get_learner(model, train_data=train_data, val_data=val_data, batch_size=batch_size)"
   ]
  },
  {
   "cell_type": "code",
   "execution_count": 8,
   "metadata": {},
   "outputs": [
    {
     "name": "stdout",
     "output_type": "stream",
     "text": [
      "\n",
      "\n",
      "begin training using onecycle policy with max lr of 0.0002...\n",
      "Epoch 1/15\n",
      "167/167 [==============================] - 53s 315ms/step - loss: 0.6665 - accuracy: 0.6142 - val_loss: 0.6637 - val_accuracy: 0.6145\n",
      "Epoch 2/15\n",
      "167/167 [==============================] - 52s 309ms/step - loss: 0.6409 - accuracy: 0.6297 - val_loss: 0.6261 - val_accuracy: 0.6410\n",
      "Epoch 3/15\n",
      "167/167 [==============================] - 52s 312ms/step - loss: 0.5511 - accuracy: 0.7120 - val_loss: 0.6052 - val_accuracy: 0.6782\n",
      "Epoch 4/15\n",
      "167/167 [==============================] - 52s 314ms/step - loss: 0.4460 - accuracy: 0.7862 - val_loss: 0.6115 - val_accuracy: 0.6843\n",
      "Epoch 5/15\n",
      "167/167 [==============================] - 52s 314ms/step - loss: 0.3678 - accuracy: 0.8311 - val_loss: 0.7025 - val_accuracy: 0.6762\n",
      "Epoch 6/15\n",
      "167/167 [==============================] - 52s 311ms/step - loss: 0.3229 - accuracy: 0.8534 - val_loss: 0.7498 - val_accuracy: 0.7109\n",
      "Epoch 7/15\n",
      "167/167 [==============================] - 53s 319ms/step - loss: 0.2823 - accuracy: 0.8730 - val_loss: 0.7147 - val_accuracy: 0.7039\n",
      "Epoch 8/15\n",
      "167/167 [==============================] - 53s 320ms/step - loss: 0.2557 - accuracy: 0.8870 - val_loss: 0.7659 - val_accuracy: 0.7201\n",
      "Epoch 9/15\n",
      "167/167 [==============================] - 53s 319ms/step - loss: 0.2153 - accuracy: 0.9029 - val_loss: 1.0056 - val_accuracy: 0.7155\n",
      "Epoch 10/15\n",
      "167/167 [==============================] - 53s 319ms/step - loss: 0.1744 - accuracy: 0.9200 - val_loss: 1.0490 - val_accuracy: 0.7236\n",
      "Epoch 11/15\n",
      "167/167 [==============================] - 52s 313ms/step - loss: 0.1375 - accuracy: 0.9339 - val_loss: 1.1065 - val_accuracy: 0.7134\n",
      "Epoch 12/15\n",
      "167/167 [==============================] - 53s 317ms/step - loss: 0.1122 - accuracy: 0.9438 - val_loss: 1.2502 - val_accuracy: 0.7284\n",
      "Epoch 13/15\n",
      "167/167 [==============================] - 51s 306ms/step - loss: 0.0929 - accuracy: 0.9523 - val_loss: 1.2503 - val_accuracy: 0.7253\n",
      "Epoch 14/15\n",
      "167/167 [==============================] - 52s 312ms/step - loss: 0.0786 - accuracy: 0.9574 - val_loss: 1.5165 - val_accuracy: 0.7278\n",
      "Epoch 15/15\n",
      "167/167 [==============================] - 52s 312ms/step - loss: 0.0704 - accuracy: 0.9610 - val_loss: 1.5984 - val_accuracy: 0.7264\n"
     ]
    },
    {
     "data": {
      "text/plain": [
       "<tensorflow.python.keras.callbacks.History at 0x7f9e0394d470>"
      ]
     },
     "execution_count": 8,
     "metadata": {},
     "output_type": "execute_result"
    }
   ],
   "source": [
    "learner.fit_onecycle(learning_rate, epochs)"
   ]
  },
  {
   "cell_type": "code",
   "execution_count": 9,
   "metadata": {},
   "outputs": [
    {
     "name": "stderr",
     "output_type": "stream",
     "text": [
      "findfont: Font family ['Arial'] not found. Falling back to DejaVu Sans.\n"
     ]
    },
    {
     "name": "stdout",
     "output_type": "stream",
     "text": [
      "              precision    recall  f1-score   support\n",
      "\n",
      "           0       0.65      0.63      0.64      4243\n",
      "           1       0.77      0.79      0.78      6764\n",
      "\n",
      "    accuracy                           0.73     11007\n",
      "   macro avg       0.71      0.71      0.71     11007\n",
      "weighted avg       0.72      0.73      0.73     11007\n",
      "\n"
     ]
    },
    {
     "data": {
      "text/plain": [
       "Text(27.499999999999996, 0.5, 'Predicted')"
      ]
     },
     "execution_count": 9,
     "metadata": {},
     "output_type": "execute_result"
    },
    {
     "name": "stderr",
     "output_type": "stream",
     "text": [
      "findfont: Font family ['Arial'] not found. Falling back to DejaVu Sans.\n",
      "findfont: Font family ['Arial'] not found. Falling back to DejaVu Sans.\n"
     ]
    },
    {
     "data": {
      "image/png": "[encoded data removed]",
      "text/plain": [
       "<Figure size 432x288 with 1 Axes>"
      ]
     },
     "metadata": {},
     "output_type": "display_data"
    }
   ],
   "source": [
    "confusion = learner.evaluate()\n",
    "\n",
    "cm_df = pd.DataFrame(confusion, class_names, class_names)\n",
    "sns.set(font_scale=1.1, font='Arial')\n",
    "ax = sns.heatmap(cm_df, cmap='Blues', annot=True, annot_kws={'size': 11}, cbar=False, fmt='g')\n",
    "ax.set_xlabel('Actual')\n",
    "ax.set_ylabel('Predicted')"
   ]
  }
 ],
 "metadata": {
  "kernelspec": {
   "display_name": "Python 3",
   "language": "python",
   "name": "python3"
  },
  "language_info": {
   "codemirror_mode": {
    "name": "ipython",
    "version": 3
   },
   "file_extension": ".py",
   "mimetype": "text/x-python",
   "name": "python",
   "nbconvert_exporter": "python",
   "pygments_lexer": "ipython3",
   "version": "3.6.9"
  }
 },
 "nbformat": 4,
 "nbformat_minor": 4
}
