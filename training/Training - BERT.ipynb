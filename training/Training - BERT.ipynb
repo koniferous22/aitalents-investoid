{
 "cells": [
  {
   "cell_type": "code",
   "execution_count": 1,
   "metadata": {},
   "outputs": [],
   "source": [
    "import tensorflow\n",
    "import ktrain\n",
    "from ktrain import text\n",
    "import pandas as pd\n",
    "from sklearn.model_selection import train_test_split\n",
    "import seaborn as sns\n",
    "import os"
   ]
  },
  {
   "cell_type": "code",
   "execution_count": 2,
   "metadata": {},
   "outputs": [],
   "source": [
    "seed = 4242\n",
    "os.environ['CUDA_DEVICE_ORDER'] = 'PCI_BUS_ID'\n",
    "os.environ['CUDA_VISIBLE_DEVICES'] = '0'"
   ]
  },
  {
   "cell_type": "code",
   "execution_count": 3,
   "metadata": {},
   "outputs": [
    {
     "name": "stdout",
     "output_type": "stream",
     "text": [
      "   Unnamed: 0                                              title  \\\n",
      "0           0  ANZ Bank New Zealand sells life insurance busi...   \n",
      "1           1  Australia's Westpac cleared of rate rigging bu...   \n",
      "2           2  Clear Channel Outdoor Holdings, Inc. Reports R...   \n",
      "3           3  Clear Channel Outdoor Holdings, Inc. Reports R...   \n",
      "4           4   BRIEF-Pembina Pipeline Corp Reports Q1 EPS $0.59   \n",
      "\n",
      "   positive_change_+1day  negative_change_+1day  positive_change_+1week  \\\n",
      "0                      0                      1                       1   \n",
      "1                      0                      1                       0   \n",
      "2                      0                      1                       0   \n",
      "3                      0                      1                       0   \n",
      "4                      0                      1                       1   \n",
      "\n",
      "   negative_change_+1week  \n",
      "0                       0  \n",
      "1                       1  \n",
      "2                       1  \n",
      "3                       1  \n",
      "4                       0  \n"
     ]
    }
   ],
   "source": [
    "csv_file = 'bert_training_data.csv'\n",
    "data = pd.read_csv(csv_file)\n",
    "print(data.head(5))"
   ]
  },
  {
   "cell_type": "code",
   "execution_count": 4,
   "metadata": {},
   "outputs": [],
   "source": [
    "epochs = 15\n",
    "learning_rate = 2e-4\n",
    "batch_size = 265\n",
    "max_length = 17\n",
    "max_words = 10000"
   ]
  },
  {
   "cell_type": "code",
   "execution_count": 5,
   "metadata": {},
   "outputs": [],
   "source": [
    "sequences = data['title'].values\n",
    "labels = data[['positive_change_+1day', 'negative_change_+1day']].values\n",
    "\n",
    "x_train, x_test, y_train, y_test = train_test_split(sequences, labels, random_state=seed, test_size=0.2)"
   ]
  },
  {
   "cell_type": "code",
   "execution_count": 6,
   "metadata": {},
   "outputs": [
    {
     "name": "stdout",
     "output_type": "stream",
     "text": [
      "preprocessing train...\n",
      "language: en\n",
      "train sequence lengths:\n",
      "\tmean : 11\n",
      "\t95percentile : 17\n",
      "\t99percentile : 24\n"
     ]
    },
    {
     "data": {
      "text/html": [],
      "text/plain": [
       "<IPython.core.display.HTML object>"
      ]
     },
     "metadata": {},
     "output_type": "display_data"
    },
    {
     "name": "stdout",
     "output_type": "stream",
     "text": [
      "Is Multi-Label? False\n",
      "preprocessing test...\n",
      "language: en\n",
      "test sequence lengths:\n",
      "\tmean : 11\n",
      "\t95percentile : 18\n",
      "\t99percentile : 24\n"
     ]
    },
    {
     "data": {
      "text/html": [],
      "text/plain": [
       "<IPython.core.display.HTML object>"
      ]
     },
     "metadata": {},
     "output_type": "display_data"
    }
   ],
   "source": [
    "MODEL = 'distilbert-base-uncased'\n",
    "class_names = ['negative', 'positive']\n",
    "\n",
    "transformer = text.Transformer(MODEL, maxlen=max_length, class_names=class_names)\n",
    "train_data = transformer.preprocess_train(x_train, y_train)\n",
    "val_data = transformer.preprocess_test(x_test, y_test)"
   ]
  },
  {
   "cell_type": "code",
   "execution_count": 7,
   "metadata": {},
   "outputs": [],
   "source": [
    "model = transformer.get_classifier()\n",
    "learner = ktrain.get_learner(model, train_data=train_data, val_data=val_data, batch_size=batch_size)"
   ]
  },
  {
   "cell_type": "code",
   "execution_count": null,
   "metadata": {},
   "outputs": [
    {
     "name": "stdout",
     "output_type": "stream",
     "text": [
      "\n",
      "\n",
      "begin training using onecycle policy with max lr of 0.0002...\n",
      "Epoch 1/15\n",
      "167/167 [==============================] - 53s 315ms/step - loss: 0.6665 - accuracy: 0.6142 - val_loss: 0.6637 - val_accuracy: 0.6145\n",
      "Epoch 2/15\n",
      " 67/167 [===========>..................] - ETA: 23s - loss: 0.6508 - accuracy: 0.6163"
     ]
    }
   ],
   "source": [
    "learner.fit_onecycle(learning_rate, epochs)"
   ]
  },
  {
   "cell_type": "code",
   "execution_count": null,
   "metadata": {},
   "outputs": [],
   "source": [
    "confusion = learner.evaluate()\n",
    "\n",
    "cm_df = pd.DataFrame(confusion, class_names, class_names)\n",
    "sns.set(font_scale=1.1, font='Arial')\n",
    "ax = sns.heatmap(cm_df, cmap='Blues', annot=True, annot_kws={'size': 11}, cbar=False, fmt='g')\n",
    "ax.set_xlabel('Actual')\n",
    "ax.set_ylabel('Predicted')"
   ]
  }
 ],
 "metadata": {
  "kernelspec": {
   "display_name": "Python 3",
   "language": "python",
   "name": "python3"
  },
  "language_info": {
   "codemirror_mode": {
    "name": "ipython",
    "version": 3
   },
   "file_extension": ".py",
   "mimetype": "text/x-python",
   "name": "python",
   "nbconvert_exporter": "python",
   "pygments_lexer": "ipython3",
   "version": "3.6.9"
  }
 },
 "nbformat": 4,
 "nbformat_minor": 4
}
