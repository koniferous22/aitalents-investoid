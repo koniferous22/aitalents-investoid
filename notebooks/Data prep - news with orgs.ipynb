{
 "cells": [
  {
   "cell_type": "code",
   "execution_count": 149,
   "metadata": {},
   "outputs": [
    {
     "data": {
      "text/plain": [
       "['/Users/melkos01/Documents/aitalents-investoid/data/news/2018_03_112b52537b67659ad3609a234388c50a',\n",
       " '/Users/melkos01/Documents/aitalents-investoid/data/news/2018_04_112b52537b67659ad3609a234388c50a',\n",
       " '/Users/melkos01/Documents/aitalents-investoid/data/news/2018_02_112b52537b67659ad3609a234388c50a',\n",
       " '/Users/melkos01/Documents/aitalents-investoid/data/news/2018_01_112b52537b67659ad3609a234388c50a',\n",
       " '/Users/melkos01/Documents/aitalents-investoid/data/news/2018_05_112b52537b67659ad3609a234388c50a']"
      ]
     },
     "execution_count": 149,
     "metadata": {},
     "output_type": "execute_result"
    }
   ],
   "source": [
    "### Original dataset: https://www.kaggle.com/jeet2016/us-financial-news-articles\n",
    "\n",
    "from os import getcwd, path, listdir\n",
    "cwd = os.getcwd()\n",
    "data_news_dir = path.join(cwd, '../data/news')\n",
    "dirs_to_process = [\n",
    "    path.realpath(path.join(data_news_dir, entry))\n",
    "    for entry in listdir(data_news_dir)\n",
    "    if entry.startswith('2018') and path.isdir(path.join(data_news_dir, entry))\n",
    "]\n",
    "dirs_to_process\n"
   ]
  },
  {
   "cell_type": "code",
   "execution_count": 150,
   "metadata": {},
   "outputs": [
    {
     "data": {
      "text/plain": [
       "{'thread.social.pinterest.shares': 0,\n",
       " 'thread.social.vk.shares': 0,\n",
       " 'thread.social.linkedin.shares': 0,\n",
       " 'thread.social.facebook.likes': 0,\n",
       " 'thread.social.facebook.shares': 0,\n",
       " 'thread.social.facebook.comments': 0,\n",
       " 'thread.social.stumbledupon.shares': 0,\n",
       " 'thread.site_full': 'www.reuters.com',\n",
       " 'thread.domain_rank': 408,\n",
       " 'thread.performance_score': 0,\n",
       " 'thread.participants_count': 1,\n",
       " 'thread.spam_score': 0.005,\n",
       " 'thread.site_type': 'news',\n",
       " 'thread.replies_count': 0,\n",
       " 'title': 'BRIEF-AU Optronics to pay cash dividend of T$1.2/share for 2017',\n",
       " 'entities.organizations': [{'name': 'au optronics corp',\n",
       "   'sentiment': 'negative'},\n",
       "  {'name': 'reuters', 'sentiment': 'negative'},\n",
       "  {'name': 'brief-au optronics', 'sentiment': 'negative'},\n",
       "  {'name': 'beijing headline news', 'sentiment': 'none'}],\n",
       " 'language': 'english',\n",
       " 'text': 'March 27(Reuters) - AU Optronics Corp :\\n* Says it plans to pay cash dividend of T$1.2/share for 2017\\nSource text in Chinese: goo.gl/uxuxci\\nFurther company coverage: (Beijing Headline News)\\n ',\n",
       " 'published': '2018-03-27T22:14:00.000+03:00'}"
      ]
     },
     "execution_count": 150,
     "metadata": {},
     "output_type": "execute_result"
    }
   ],
   "source": [
    "from json import loads, dumps\n",
    "def flatten_dict(dd, separator ='.', prefix =''): \n",
    "    return { prefix + separator + k if prefix else k : v \n",
    "             for kk, vv in dd.items() \n",
    "             for k, v in flatten_dict(vv, separator, kk).items() \n",
    "             } if isinstance(dd, dict) else { prefix : dd } \n",
    "def pick_keys(dict_, *args):\n",
    "    return {k:dict_[k] for k in args if k in dict_}\n",
    "def preprocess_file(fp):\n",
    "    with open(fp) as f:\n",
    "        contents = loads(f.read())\n",
    "        return pick_keys(\n",
    "            flatten_dict(contents),\n",
    "            'thread.social.pinterest.shares',\n",
    "            'thread.social.vk.shares',\n",
    "            'thread.social.linkedin.shares',\n",
    "            'thread.social.facebook.likes',\n",
    "            'thread.social.facebook.shares',\n",
    "            'thread.social.facebook.comments',\n",
    "            'thread.social.stumbledupon.shares',\n",
    "            'thread.site_full',\n",
    "            'thread.domain_rank',\n",
    "            'thread.performance_score',\n",
    "            'thread.participants_count',\n",
    "            'thread.spam_score',\n",
    "            'thread.site_type',\n",
    "            'thread.replies_count',\n",
    "            'title',\n",
    "            'entities.organizations',\n",
    "            'language',\n",
    "            'text',\n",
    "            'published'\n",
    "        )\n",
    "sample_dir = dirs_to_process[0]\n",
    "sample_file = path.join(sample_dir,listdir(sample_dir)[0])\n",
    "preprocess_file(sample_file)"
   ]
  },
  {
   "cell_type": "code",
   "execution_count": 151,
   "metadata": {},
   "outputs": [],
   "source": [
    "def preprocess_dir(dp):\n",
    "    year,month = path.basename(dp).split('_')[:2]\n",
    "    out_file = path.join(dp,f'../{year}-{month}.json')\n",
    "    contents = list(map(lambda fp: preprocess_file(path.join(dp, fp)),listdir(dp)))\n",
    "    with open(out_file, 'w') as f:\n",
    "        f.write(dumps(contents))\n",
    "preprocess_dir(dirs_to_process[0])"
   ]
  },
  {
   "cell_type": "code",
   "execution_count": 152,
   "metadata": {},
   "outputs": [
    {
     "data": {
      "text/html": [
       "<div>\n",
       "<style scoped>\n",
       "    .dataframe tbody tr th:only-of-type {\n",
       "        vertical-align: middle;\n",
       "    }\n",
       "\n",
       "    .dataframe tbody tr th {\n",
       "        vertical-align: top;\n",
       "    }\n",
       "\n",
       "    .dataframe thead th {\n",
       "        text-align: right;\n",
       "    }\n",
       "</style>\n",
       "<table border=\"1\" class=\"dataframe\">\n",
       "  <thead>\n",
       "    <tr style=\"text-align: right;\">\n",
       "      <th></th>\n",
       "      <th>thread.social.pinterest.shares</th>\n",
       "      <th>thread.social.vk.shares</th>\n",
       "      <th>thread.social.linkedin.shares</th>\n",
       "      <th>thread.social.facebook.likes</th>\n",
       "      <th>thread.social.facebook.shares</th>\n",
       "      <th>thread.social.facebook.comments</th>\n",
       "      <th>thread.social.stumbledupon.shares</th>\n",
       "      <th>thread.site_full</th>\n",
       "      <th>thread.domain_rank</th>\n",
       "      <th>thread.performance_score</th>\n",
       "      <th>thread.participants_count</th>\n",
       "      <th>thread.spam_score</th>\n",
       "      <th>thread.site_type</th>\n",
       "      <th>thread.replies_count</th>\n",
       "      <th>title</th>\n",
       "      <th>entities.organizations</th>\n",
       "      <th>language</th>\n",
       "      <th>text</th>\n",
       "      <th>published</th>\n",
       "    </tr>\n",
       "  </thead>\n",
       "  <tbody>\n",
       "    <tr>\n",
       "      <th>0</th>\n",
       "      <td>0</td>\n",
       "      <td>0</td>\n",
       "      <td>0</td>\n",
       "      <td>0</td>\n",
       "      <td>0</td>\n",
       "      <td>0</td>\n",
       "      <td>0</td>\n",
       "      <td>www.reuters.com</td>\n",
       "      <td>408.0</td>\n",
       "      <td>0</td>\n",
       "      <td>1</td>\n",
       "      <td>0.005</td>\n",
       "      <td>news</td>\n",
       "      <td>0</td>\n",
       "      <td>BRIEF-AU Optronics to pay cash dividend of T$1...</td>\n",
       "      <td>[{'name': 'au optronics corp', 'sentiment': 'n...</td>\n",
       "      <td>english</td>\n",
       "      <td>March 27(Reuters) - AU Optronics Corp :\\n* Say...</td>\n",
       "      <td>2018-03-27T22:14:00.000+03:00</td>\n",
       "    </tr>\n",
       "    <tr>\n",
       "      <th>1</th>\n",
       "      <td>0</td>\n",
       "      <td>0</td>\n",
       "      <td>0</td>\n",
       "      <td>4</td>\n",
       "      <td>4</td>\n",
       "      <td>0</td>\n",
       "      <td>0</td>\n",
       "      <td>uk.reuters.com</td>\n",
       "      <td>408.0</td>\n",
       "      <td>0</td>\n",
       "      <td>0</td>\n",
       "      <td>0.000</td>\n",
       "      <td>news</td>\n",
       "      <td>0</td>\n",
       "      <td>British stats watchdog - stop using RPI inflat...</td>\n",
       "      <td>[{'name': 'reuters staff', 'sentiment': 'none'...</td>\n",
       "      <td>english</td>\n",
       "      <td>March 8, 2018 / 1:35 PM / Updated an hour ago ...</td>\n",
       "      <td>2018-03-08T15:42:00.000+02:00</td>\n",
       "    </tr>\n",
       "    <tr>\n",
       "      <th>2</th>\n",
       "      <td>0</td>\n",
       "      <td>0</td>\n",
       "      <td>0</td>\n",
       "      <td>0</td>\n",
       "      <td>0</td>\n",
       "      <td>0</td>\n",
       "      <td>0</td>\n",
       "      <td>in.reuters.com</td>\n",
       "      <td>408.0</td>\n",
       "      <td>0</td>\n",
       "      <td>0</td>\n",
       "      <td>0.000</td>\n",
       "      <td>news</td>\n",
       "      <td>0</td>\n",
       "      <td>Dropbox shares surge in IPO</td>\n",
       "      <td>[{'name': 'ipo dropbox', 'sentiment': 'negativ...</td>\n",
       "      <td>english</td>\n",
       "      <td>Dropbox shares surge in IPO Saturday, March 24...</td>\n",
       "      <td>2018-03-23T22:23:00.000+03:00</td>\n",
       "    </tr>\n",
       "    <tr>\n",
       "      <th>3</th>\n",
       "      <td>0</td>\n",
       "      <td>0</td>\n",
       "      <td>0</td>\n",
       "      <td>0</td>\n",
       "      <td>0</td>\n",
       "      <td>0</td>\n",
       "      <td>0</td>\n",
       "      <td>www.reuters.com</td>\n",
       "      <td>408.0</td>\n",
       "      <td>0</td>\n",
       "      <td>1</td>\n",
       "      <td>0.064</td>\n",
       "      <td>news</td>\n",
       "      <td>0</td>\n",
       "      <td>Bookkeeper of Auschwitz dies before starting s...</td>\n",
       "      <td>[{'name': 'reuters', 'sentiment': 'negative'},...</td>\n",
       "      <td>english</td>\n",
       "      <td>BERLIN (Reuters) - The man known as the “bookk...</td>\n",
       "      <td>2018-03-13T01:05:00.000+02:00</td>\n",
       "    </tr>\n",
       "    <tr>\n",
       "      <th>4</th>\n",
       "      <td>0</td>\n",
       "      <td>0</td>\n",
       "      <td>0</td>\n",
       "      <td>0</td>\n",
       "      <td>0</td>\n",
       "      <td>0</td>\n",
       "      <td>0</td>\n",
       "      <td>www.cnbc.com</td>\n",
       "      <td>767.0</td>\n",
       "      <td>0</td>\n",
       "      <td>1</td>\n",
       "      <td>0.000</td>\n",
       "      <td>news</td>\n",
       "      <td>0</td>\n",
       "      <td>US stocks set for a negative open as trade war...</td>\n",
       "      <td>[{'name': 's&amp;p', 'sentiment': 'none'}]</td>\n",
       "      <td>english</td>\n",
       "      <td>Dow closes 336 points higher as trade-war worr...</td>\n",
       "      <td>2018-03-05T13:27:00.000+02:00</td>\n",
       "    </tr>\n",
       "  </tbody>\n",
       "</table>\n",
       "</div>"
      ],
      "text/plain": [
       "   thread.social.pinterest.shares  thread.social.vk.shares  \\\n",
       "0                               0                        0   \n",
       "1                               0                        0   \n",
       "2                               0                        0   \n",
       "3                               0                        0   \n",
       "4                               0                        0   \n",
       "\n",
       "   thread.social.linkedin.shares  thread.social.facebook.likes  \\\n",
       "0                              0                             0   \n",
       "1                              0                             4   \n",
       "2                              0                             0   \n",
       "3                              0                             0   \n",
       "4                              0                             0   \n",
       "\n",
       "   thread.social.facebook.shares  thread.social.facebook.comments  \\\n",
       "0                              0                                0   \n",
       "1                              4                                0   \n",
       "2                              0                                0   \n",
       "3                              0                                0   \n",
       "4                              0                                0   \n",
       "\n",
       "   thread.social.stumbledupon.shares thread.site_full  thread.domain_rank  \\\n",
       "0                                  0  www.reuters.com               408.0   \n",
       "1                                  0   uk.reuters.com               408.0   \n",
       "2                                  0   in.reuters.com               408.0   \n",
       "3                                  0  www.reuters.com               408.0   \n",
       "4                                  0     www.cnbc.com               767.0   \n",
       "\n",
       "   thread.performance_score  thread.participants_count  thread.spam_score  \\\n",
       "0                         0                          1              0.005   \n",
       "1                         0                          0              0.000   \n",
       "2                         0                          0              0.000   \n",
       "3                         0                          1              0.064   \n",
       "4                         0                          1              0.000   \n",
       "\n",
       "  thread.site_type  thread.replies_count  \\\n",
       "0             news                     0   \n",
       "1             news                     0   \n",
       "2             news                     0   \n",
       "3             news                     0   \n",
       "4             news                     0   \n",
       "\n",
       "                                               title  \\\n",
       "0  BRIEF-AU Optronics to pay cash dividend of T$1...   \n",
       "1  British stats watchdog - stop using RPI inflat...   \n",
       "2                        Dropbox shares surge in IPO   \n",
       "3  Bookkeeper of Auschwitz dies before starting s...   \n",
       "4  US stocks set for a negative open as trade war...   \n",
       "\n",
       "                              entities.organizations language  \\\n",
       "0  [{'name': 'au optronics corp', 'sentiment': 'n...  english   \n",
       "1  [{'name': 'reuters staff', 'sentiment': 'none'...  english   \n",
       "2  [{'name': 'ipo dropbox', 'sentiment': 'negativ...  english   \n",
       "3  [{'name': 'reuters', 'sentiment': 'negative'},...  english   \n",
       "4             [{'name': 's&p', 'sentiment': 'none'}]  english   \n",
       "\n",
       "                                                text  \\\n",
       "0  March 27(Reuters) - AU Optronics Corp :\\n* Say...   \n",
       "1  March 8, 2018 / 1:35 PM / Updated an hour ago ...   \n",
       "2  Dropbox shares surge in IPO Saturday, March 24...   \n",
       "3  BERLIN (Reuters) - The man known as the “bookk...   \n",
       "4  Dow closes 336 points higher as trade-war worr...   \n",
       "\n",
       "                       published  \n",
       "0  2018-03-27T22:14:00.000+03:00  \n",
       "1  2018-03-08T15:42:00.000+02:00  \n",
       "2  2018-03-23T22:23:00.000+03:00  \n",
       "3  2018-03-13T01:05:00.000+02:00  \n",
       "4  2018-03-05T13:27:00.000+02:00  "
      ]
     },
     "execution_count": 152,
     "metadata": {},
     "output_type": "execute_result"
    }
   ],
   "source": [
    "import pandas as pd\n",
    "\n",
    "def get_df_path(year, month):\n",
    "    return path.join(data_news_dir, f'{year}-{month}.json')\n",
    "df = pd.read_json(get_df_path(2018,'03'))\n",
    "df.head()"
   ]
  },
  {
   "cell_type": "code",
   "execution_count": 156,
   "metadata": {},
   "outputs": [
    {
     "data": {
      "text/html": [
       "<div>\n",
       "<style scoped>\n",
       "    .dataframe tbody tr th:only-of-type {\n",
       "        vertical-align: middle;\n",
       "    }\n",
       "\n",
       "    .dataframe tbody tr th {\n",
       "        vertical-align: top;\n",
       "    }\n",
       "\n",
       "    .dataframe thead th {\n",
       "        text-align: right;\n",
       "    }\n",
       "</style>\n",
       "<table border=\"1\" class=\"dataframe\">\n",
       "  <thead>\n",
       "    <tr style=\"text-align: right;\">\n",
       "      <th></th>\n",
       "      <th>thread.social.pinterest.shares</th>\n",
       "      <th>thread.social.vk.shares</th>\n",
       "      <th>thread.social.linkedin.shares</th>\n",
       "      <th>thread.social.facebook.likes</th>\n",
       "      <th>thread.social.facebook.shares</th>\n",
       "      <th>thread.social.facebook.comments</th>\n",
       "      <th>thread.social.stumbledupon.shares</th>\n",
       "      <th>thread.domain_rank</th>\n",
       "      <th>thread.performance_score</th>\n",
       "      <th>thread.participants_count</th>\n",
       "      <th>thread.spam_score</th>\n",
       "      <th>thread.replies_count</th>\n",
       "    </tr>\n",
       "  </thead>\n",
       "  <tbody>\n",
       "    <tr>\n",
       "      <th>count</th>\n",
       "      <td>57456.000000</td>\n",
       "      <td>57456.000000</td>\n",
       "      <td>57456.0</td>\n",
       "      <td>57456.000000</td>\n",
       "      <td>57456.000000</td>\n",
       "      <td>57456.000000</td>\n",
       "      <td>57456.000000</td>\n",
       "      <td>57381.000000</td>\n",
       "      <td>57456.000000</td>\n",
       "      <td>57456.000000</td>\n",
       "      <td>57456.000000</td>\n",
       "      <td>57456.0</td>\n",
       "    </tr>\n",
       "    <tr>\n",
       "      <th>mean</th>\n",
       "      <td>0.012079</td>\n",
       "      <td>0.000365</td>\n",
       "      <td>0.0</td>\n",
       "      <td>11.908312</td>\n",
       "      <td>11.908417</td>\n",
       "      <td>0.000087</td>\n",
       "      <td>0.000139</td>\n",
       "      <td>525.548823</td>\n",
       "      <td>0.065842</td>\n",
       "      <td>0.543599</td>\n",
       "      <td>0.099462</td>\n",
       "      <td>0.0</td>\n",
       "    </tr>\n",
       "    <tr>\n",
       "      <th>std</th>\n",
       "      <td>0.180776</td>\n",
       "      <td>0.023225</td>\n",
       "      <td>0.0</td>\n",
       "      <td>144.315498</td>\n",
       "      <td>144.315491</td>\n",
       "      <td>0.009328</td>\n",
       "      <td>0.025717</td>\n",
       "      <td>189.195368</td>\n",
       "      <td>0.647521</td>\n",
       "      <td>0.498100</td>\n",
       "      <td>0.249930</td>\n",
       "      <td>0.0</td>\n",
       "    </tr>\n",
       "    <tr>\n",
       "      <th>min</th>\n",
       "      <td>0.000000</td>\n",
       "      <td>0.000000</td>\n",
       "      <td>0.0</td>\n",
       "      <td>0.000000</td>\n",
       "      <td>0.000000</td>\n",
       "      <td>0.000000</td>\n",
       "      <td>0.000000</td>\n",
       "      <td>387.000000</td>\n",
       "      <td>0.000000</td>\n",
       "      <td>0.000000</td>\n",
       "      <td>0.000000</td>\n",
       "      <td>0.0</td>\n",
       "    </tr>\n",
       "    <tr>\n",
       "      <th>25%</th>\n",
       "      <td>0.000000</td>\n",
       "      <td>0.000000</td>\n",
       "      <td>0.0</td>\n",
       "      <td>0.000000</td>\n",
       "      <td>0.000000</td>\n",
       "      <td>0.000000</td>\n",
       "      <td>0.000000</td>\n",
       "      <td>408.000000</td>\n",
       "      <td>0.000000</td>\n",
       "      <td>0.000000</td>\n",
       "      <td>0.000000</td>\n",
       "      <td>0.0</td>\n",
       "    </tr>\n",
       "    <tr>\n",
       "      <th>50%</th>\n",
       "      <td>0.000000</td>\n",
       "      <td>0.000000</td>\n",
       "      <td>0.0</td>\n",
       "      <td>0.000000</td>\n",
       "      <td>0.000000</td>\n",
       "      <td>0.000000</td>\n",
       "      <td>0.000000</td>\n",
       "      <td>408.000000</td>\n",
       "      <td>0.000000</td>\n",
       "      <td>1.000000</td>\n",
       "      <td>0.000000</td>\n",
       "      <td>0.0</td>\n",
       "    </tr>\n",
       "    <tr>\n",
       "      <th>75%</th>\n",
       "      <td>0.000000</td>\n",
       "      <td>0.000000</td>\n",
       "      <td>0.0</td>\n",
       "      <td>0.000000</td>\n",
       "      <td>0.000000</td>\n",
       "      <td>0.000000</td>\n",
       "      <td>0.000000</td>\n",
       "      <td>767.000000</td>\n",
       "      <td>0.000000</td>\n",
       "      <td>1.000000</td>\n",
       "      <td>0.010000</td>\n",
       "      <td>0.0</td>\n",
       "    </tr>\n",
       "    <tr>\n",
       "      <th>max</th>\n",
       "      <td>13.000000</td>\n",
       "      <td>3.000000</td>\n",
       "      <td>0.0</td>\n",
       "      <td>9847.000000</td>\n",
       "      <td>9847.000000</td>\n",
       "      <td>1.000000</td>\n",
       "      <td>6.000000</td>\n",
       "      <td>1196.000000</td>\n",
       "      <td>10.000000</td>\n",
       "      <td>1.000000</td>\n",
       "      <td>1.000000</td>\n",
       "      <td>0.0</td>\n",
       "    </tr>\n",
       "  </tbody>\n",
       "</table>\n",
       "</div>"
      ],
      "text/plain": [
       "       thread.social.pinterest.shares  thread.social.vk.shares  \\\n",
       "count                    57456.000000             57456.000000   \n",
       "mean                         0.012079                 0.000365   \n",
       "std                          0.180776                 0.023225   \n",
       "min                          0.000000                 0.000000   \n",
       "25%                          0.000000                 0.000000   \n",
       "50%                          0.000000                 0.000000   \n",
       "75%                          0.000000                 0.000000   \n",
       "max                         13.000000                 3.000000   \n",
       "\n",
       "       thread.social.linkedin.shares  thread.social.facebook.likes  \\\n",
       "count                        57456.0                  57456.000000   \n",
       "mean                             0.0                     11.908312   \n",
       "std                              0.0                    144.315498   \n",
       "min                              0.0                      0.000000   \n",
       "25%                              0.0                      0.000000   \n",
       "50%                              0.0                      0.000000   \n",
       "75%                              0.0                      0.000000   \n",
       "max                              0.0                   9847.000000   \n",
       "\n",
       "       thread.social.facebook.shares  thread.social.facebook.comments  \\\n",
       "count                   57456.000000                     57456.000000   \n",
       "mean                       11.908417                         0.000087   \n",
       "std                       144.315491                         0.009328   \n",
       "min                         0.000000                         0.000000   \n",
       "25%                         0.000000                         0.000000   \n",
       "50%                         0.000000                         0.000000   \n",
       "75%                         0.000000                         0.000000   \n",
       "max                      9847.000000                         1.000000   \n",
       "\n",
       "       thread.social.stumbledupon.shares  thread.domain_rank  \\\n",
       "count                       57456.000000        57381.000000   \n",
       "mean                            0.000139          525.548823   \n",
       "std                             0.025717          189.195368   \n",
       "min                             0.000000          387.000000   \n",
       "25%                             0.000000          408.000000   \n",
       "50%                             0.000000          408.000000   \n",
       "75%                             0.000000          767.000000   \n",
       "max                             6.000000         1196.000000   \n",
       "\n",
       "       thread.performance_score  thread.participants_count  thread.spam_score  \\\n",
       "count              57456.000000               57456.000000       57456.000000   \n",
       "mean                   0.065842                   0.543599           0.099462   \n",
       "std                    0.647521                   0.498100           0.249930   \n",
       "min                    0.000000                   0.000000           0.000000   \n",
       "25%                    0.000000                   0.000000           0.000000   \n",
       "50%                    0.000000                   1.000000           0.000000   \n",
       "75%                    0.000000                   1.000000           0.010000   \n",
       "max                   10.000000                   1.000000           1.000000   \n",
       "\n",
       "       thread.replies_count  \n",
       "count               57456.0  \n",
       "mean                    0.0  \n",
       "std                     0.0  \n",
       "min                     0.0  \n",
       "25%                     0.0  \n",
       "50%                     0.0  \n",
       "75%                     0.0  \n",
       "max                     0.0  "
      ]
     },
     "execution_count": 156,
     "metadata": {},
     "output_type": "execute_result"
    }
   ],
   "source": [
    "df.describe()"
   ]
  },
  {
   "cell_type": "code",
   "execution_count": 163,
   "metadata": {},
   "outputs": [
    {
     "data": {
      "text/plain": [
       "<AxesSubplot:xlabel='thread.social.facebook.shares', ylabel='thread.performance_score'>"
      ]
     },
     "execution_count": 163,
     "metadata": {},
     "output_type": "execute_result"
    },
    {
     "data": {
      "image/png": "[encoded data removed]",
      "text/plain": [
       "<Figure size 432x288 with 1 Axes>"
      ]
     },
     "metadata": {
      "needs_background": "light"
     },
     "output_type": "display_data"
    }
   ],
   "source": [
    "df['thread.social.facebook.shares'].corr(df['thread.performance_score'])\n",
    "threshold = 1000\n",
    "compared_records = df[df['thread.social.facebook.shares'] <= threshold]\n",
    "compared_records.plot.scatter('thread.social.facebook.shares', 'thread.performance_score')\n",
    "# thread performance was just measured using facebook shares :D\n"
   ]
  },
  {
   "cell_type": "code",
   "execution_count": 164,
   "metadata": {},
   "outputs": [],
   "source": [
    "df = df.drop(columns=['thread.social.pinterest.shares','thread.social.vk.shares','thread.social.linkedin.shares','thread.social.facebook.comments'])"
   ]
  },
  {
   "cell_type": "code",
   "execution_count": 165,
   "metadata": {},
   "outputs": [],
   "source": [
    "df = df.drop(columns=['thread.social.facebook.likes'])"
   ]
  },
  {
   "cell_type": "code",
   "execution_count": 166,
   "metadata": {},
   "outputs": [],
   "source": [
    "df = df.drop(columns=['thread.social.stumbledupon.shares'])"
   ]
  },
  {
   "cell_type": "code",
   "execution_count": 167,
   "metadata": {},
   "outputs": [],
   "source": [
    "df['thread.site_full'] = df['thread.site_full'].astype('category')"
   ]
  },
  {
   "cell_type": "code",
   "execution_count": 168,
   "metadata": {},
   "outputs": [],
   "source": [
    "good_thread_performance = df[df['thread.performance_score'] == 10]\n",
    "good_thread_performance[['title','text']].to_json(path.join(data_news_dir, 'good_thread_performance.json'))\n",
    "# Good thread performance is just an indicator of possible tabloid artice"
   ]
  },
  {
   "cell_type": "code",
   "execution_count": 169,
   "metadata": {},
   "outputs": [
    {
     "data": {
      "text/plain": [
       "408.0     36224\n",
       "767.0     16420\n",
       "387.0      3563\n",
       "1196.0     1174\n",
       "Name: thread.domain_rank, dtype: int64"
      ]
     },
     "execution_count": 169,
     "metadata": {},
     "output_type": "execute_result"
    }
   ],
   "source": [
    "df['thread.domain_rank'].value_counts()\n",
    "# Simple labeling\n",
    "# 408: reuters\n",
    "# 767: cnbc\n",
    "# 387: wsj\n",
    "# 1196: fortune"
   ]
  },
  {
   "cell_type": "code",
   "execution_count": 170,
   "metadata": {},
   "outputs": [
    {
     "data": {
      "text/plain": [
       "www.reuters.com     26543\n",
       "www.cnbc.com        16420\n",
       "uk.reuters.com       5816\n",
       "in.reuters.com       3790\n",
       "www.wsj.com          3478\n",
       "fortune.com          1174\n",
       "live.wsj.com           75\n",
       "jp.wsj.com             74\n",
       "it.reuters.com         74\n",
       "graphics.wsj.com        9\n",
       "quotes.wsj.com          1\n",
       "cn.reuters.com          1\n",
       "chinese.wsj.com         1\n",
       "Name: thread.site_full, dtype: int64"
      ]
     },
     "execution_count": 170,
     "metadata": {},
     "output_type": "execute_result"
    }
   ],
   "source": [
    "df['thread.site_full'].value_counts()"
   ]
  },
  {
   "cell_type": "code",
   "execution_count": 171,
   "metadata": {},
   "outputs": [
    {
     "data": {
      "text/html": [
       "<div>\n",
       "<style scoped>\n",
       "    .dataframe tbody tr th:only-of-type {\n",
       "        vertical-align: middle;\n",
       "    }\n",
       "\n",
       "    .dataframe tbody tr th {\n",
       "        vertical-align: top;\n",
       "    }\n",
       "\n",
       "    .dataframe thead th {\n",
       "        text-align: right;\n",
       "    }\n",
       "</style>\n",
       "<table border=\"1\" class=\"dataframe\">\n",
       "  <thead>\n",
       "    <tr style=\"text-align: right;\">\n",
       "      <th></th>\n",
       "      <th>thread.social.facebook.shares</th>\n",
       "      <th>thread.site_full</th>\n",
       "      <th>thread.domain_rank</th>\n",
       "      <th>thread.performance_score</th>\n",
       "      <th>thread.participants_count</th>\n",
       "      <th>thread.spam_score</th>\n",
       "      <th>thread.site_type</th>\n",
       "      <th>thread.replies_count</th>\n",
       "      <th>title</th>\n",
       "      <th>entities.organizations</th>\n",
       "      <th>language</th>\n",
       "      <th>text</th>\n",
       "      <th>published</th>\n",
       "    </tr>\n",
       "  </thead>\n",
       "  <tbody>\n",
       "  </tbody>\n",
       "</table>\n",
       "</div>"
      ],
      "text/plain": [
       "Empty DataFrame\n",
       "Columns: [thread.social.facebook.shares, thread.site_full, thread.domain_rank, thread.performance_score, thread.participants_count, thread.spam_score, thread.site_type, thread.replies_count, title, entities.organizations, language, text, published]\n",
       "Index: []"
      ]
     },
     "execution_count": 171,
     "metadata": {},
     "output_type": "execute_result"
    }
   ],
   "source": [
    "df[(df['thread.domain_rank'] == 767) & (df['thread.site_full'] != 'www.cnbc.com')]"
   ]
  },
  {
   "cell_type": "code",
   "execution_count": 172,
   "metadata": {},
   "outputs": [
    {
     "data": {
      "text/html": [
       "<div>\n",
       "<style scoped>\n",
       "    .dataframe tbody tr th:only-of-type {\n",
       "        vertical-align: middle;\n",
       "    }\n",
       "\n",
       "    .dataframe tbody tr th {\n",
       "        vertical-align: top;\n",
       "    }\n",
       "\n",
       "    .dataframe thead th {\n",
       "        text-align: right;\n",
       "    }\n",
       "</style>\n",
       "<table border=\"1\" class=\"dataframe\">\n",
       "  <thead>\n",
       "    <tr style=\"text-align: right;\">\n",
       "      <th></th>\n",
       "      <th>thread.social.facebook.shares</th>\n",
       "      <th>thread.site_full</th>\n",
       "      <th>thread.domain_rank</th>\n",
       "      <th>thread.performance_score</th>\n",
       "      <th>thread.participants_count</th>\n",
       "      <th>thread.spam_score</th>\n",
       "      <th>thread.site_type</th>\n",
       "      <th>thread.replies_count</th>\n",
       "      <th>title</th>\n",
       "      <th>entities.organizations</th>\n",
       "      <th>language</th>\n",
       "      <th>text</th>\n",
       "      <th>published</th>\n",
       "    </tr>\n",
       "  </thead>\n",
       "  <tbody>\n",
       "  </tbody>\n",
       "</table>\n",
       "</div>"
      ],
      "text/plain": [
       "Empty DataFrame\n",
       "Columns: [thread.social.facebook.shares, thread.site_full, thread.domain_rank, thread.performance_score, thread.participants_count, thread.spam_score, thread.site_type, thread.replies_count, title, entities.organizations, language, text, published]\n",
       "Index: []"
      ]
     },
     "execution_count": 172,
     "metadata": {},
     "output_type": "execute_result"
    }
   ],
   "source": [
    "df[(df['thread.domain_rank'] == 408) & (~df['thread.site_full'].str.contains('reuters'))]"
   ]
  },
  {
   "cell_type": "code",
   "execution_count": 173,
   "metadata": {},
   "outputs": [
    {
     "data": {
      "text/html": [
       "<div>\n",
       "<style scoped>\n",
       "    .dataframe tbody tr th:only-of-type {\n",
       "        vertical-align: middle;\n",
       "    }\n",
       "\n",
       "    .dataframe tbody tr th {\n",
       "        vertical-align: top;\n",
       "    }\n",
       "\n",
       "    .dataframe thead th {\n",
       "        text-align: right;\n",
       "    }\n",
       "</style>\n",
       "<table border=\"1\" class=\"dataframe\">\n",
       "  <thead>\n",
       "    <tr style=\"text-align: right;\">\n",
       "      <th></th>\n",
       "      <th>thread.social.facebook.shares</th>\n",
       "      <th>thread.site_full</th>\n",
       "      <th>thread.domain_rank</th>\n",
       "      <th>thread.performance_score</th>\n",
       "      <th>thread.participants_count</th>\n",
       "      <th>thread.spam_score</th>\n",
       "      <th>thread.site_type</th>\n",
       "      <th>thread.replies_count</th>\n",
       "      <th>title</th>\n",
       "      <th>entities.organizations</th>\n",
       "      <th>language</th>\n",
       "      <th>text</th>\n",
       "      <th>published</th>\n",
       "    </tr>\n",
       "  </thead>\n",
       "  <tbody>\n",
       "  </tbody>\n",
       "</table>\n",
       "</div>"
      ],
      "text/plain": [
       "Empty DataFrame\n",
       "Columns: [thread.social.facebook.shares, thread.site_full, thread.domain_rank, thread.performance_score, thread.participants_count, thread.spam_score, thread.site_type, thread.replies_count, title, entities.organizations, language, text, published]\n",
       "Index: []"
      ]
     },
     "execution_count": 173,
     "metadata": {},
     "output_type": "execute_result"
    }
   ],
   "source": [
    "df[(df['thread.domain_rank'] == 1196) & (df['thread.site_full'] != 'fortune.com')]"
   ]
  },
  {
   "cell_type": "code",
   "execution_count": 174,
   "metadata": {},
   "outputs": [],
   "source": [
    "df = df.drop(columns=['thread.domain_rank','thread.performance_score'])"
   ]
  },
  {
   "cell_type": "code",
   "execution_count": 175,
   "metadata": {},
   "outputs": [],
   "source": [
    "spam = df[df['thread.spam_score'] > 0.8]\n",
    "spam[['title','text']].to_json(path.join(data_news_dir, 'spam_articles.json'))"
   ]
  },
  {
   "cell_type": "code",
   "execution_count": 176,
   "metadata": {},
   "outputs": [],
   "source": [
    "srs_spam = spam[spam['thread.spam_score'] == 1]\n",
    "srs_spam[['title','text']].to_json(path.join(data_news_dir, 'srs_spam_articles.json'))\n",
    "# Examined records with high spam_score value, not significant indicator\n",
    "# just classified that when sent to an email could be a spam"
   ]
  },
  {
   "cell_type": "code",
   "execution_count": 177,
   "metadata": {},
   "outputs": [],
   "source": [
    "df = df.drop(columns='thread.spam_score')"
   ]
  },
  {
   "cell_type": "code",
   "execution_count": 178,
   "metadata": {},
   "outputs": [],
   "source": [
    "df = df.drop(columns=['thread.replies_count'])"
   ]
  },
  {
   "cell_type": "code",
   "execution_count": 185,
   "metadata": {},
   "outputs": [
    {
     "ename": "KeyError",
     "evalue": "\"['thread.social.facebook.shares'] not found in axis\"",
     "output_type": "error",
     "traceback": [
      "\u001b[0;31m---------------------------------------------------------------------------\u001b[0m",
      "\u001b[0;31mKeyError\u001b[0m                                  Traceback (most recent call last)",
      "\u001b[0;32m<ipython-input-185-355fe8b71974>\u001b[0m in \u001b[0;36m<module>\u001b[0;34m\u001b[0m\n\u001b[0;32m----> 1\u001b[0;31m \u001b[0mdf\u001b[0m \u001b[0;34m=\u001b[0m \u001b[0mdf\u001b[0m\u001b[0;34m.\u001b[0m\u001b[0mdrop\u001b[0m\u001b[0;34m(\u001b[0m\u001b[0mcolumns\u001b[0m\u001b[0;34m=\u001b[0m\u001b[0;34m[\u001b[0m\u001b[0;34m'thread.social.facebook.shares'\u001b[0m\u001b[0;34m]\u001b[0m\u001b[0;34m)\u001b[0m\u001b[0;34m\u001b[0m\u001b[0;34m\u001b[0m\u001b[0m\n\u001b[0m\u001b[1;32m      2\u001b[0m \u001b[0;31m# Removed because just correlation with useless features (which was just tabloid detection)\u001b[0m\u001b[0;34m\u001b[0m\u001b[0;34m\u001b[0m\u001b[0;34m\u001b[0m\u001b[0m\n",
      "\u001b[0;32m/usr/local/lib/python3.8/site-packages/pandas/core/frame.py\u001b[0m in \u001b[0;36mdrop\u001b[0;34m(self, labels, axis, index, columns, level, inplace, errors)\u001b[0m\n\u001b[1;32m   4165\u001b[0m                 \u001b[0mweight\u001b[0m  \u001b[0;36m1.0\u001b[0m     \u001b[0;36m0.8\u001b[0m\u001b[0;34m\u001b[0m\u001b[0;34m\u001b[0m\u001b[0m\n\u001b[1;32m   4166\u001b[0m         \"\"\"\n\u001b[0;32m-> 4167\u001b[0;31m         return super().drop(\n\u001b[0m\u001b[1;32m   4168\u001b[0m             \u001b[0mlabels\u001b[0m\u001b[0;34m=\u001b[0m\u001b[0mlabels\u001b[0m\u001b[0;34m,\u001b[0m\u001b[0;34m\u001b[0m\u001b[0;34m\u001b[0m\u001b[0m\n\u001b[1;32m   4169\u001b[0m             \u001b[0maxis\u001b[0m\u001b[0;34m=\u001b[0m\u001b[0maxis\u001b[0m\u001b[0;34m,\u001b[0m\u001b[0;34m\u001b[0m\u001b[0;34m\u001b[0m\u001b[0m\n",
      "\u001b[0;32m/usr/local/lib/python3.8/site-packages/pandas/core/generic.py\u001b[0m in \u001b[0;36mdrop\u001b[0;34m(self, labels, axis, index, columns, level, inplace, errors)\u001b[0m\n\u001b[1;32m   3887\u001b[0m         \u001b[0;32mfor\u001b[0m \u001b[0maxis\u001b[0m\u001b[0;34m,\u001b[0m \u001b[0mlabels\u001b[0m \u001b[0;32min\u001b[0m \u001b[0maxes\u001b[0m\u001b[0;34m.\u001b[0m\u001b[0mitems\u001b[0m\u001b[0;34m(\u001b[0m\u001b[0;34m)\u001b[0m\u001b[0;34m:\u001b[0m\u001b[0;34m\u001b[0m\u001b[0;34m\u001b[0m\u001b[0m\n\u001b[1;32m   3888\u001b[0m             \u001b[0;32mif\u001b[0m \u001b[0mlabels\u001b[0m \u001b[0;32mis\u001b[0m \u001b[0;32mnot\u001b[0m \u001b[0;32mNone\u001b[0m\u001b[0;34m:\u001b[0m\u001b[0;34m\u001b[0m\u001b[0;34m\u001b[0m\u001b[0m\n\u001b[0;32m-> 3889\u001b[0;31m                 \u001b[0mobj\u001b[0m \u001b[0;34m=\u001b[0m \u001b[0mobj\u001b[0m\u001b[0;34m.\u001b[0m\u001b[0m_drop_axis\u001b[0m\u001b[0;34m(\u001b[0m\u001b[0mlabels\u001b[0m\u001b[0;34m,\u001b[0m \u001b[0maxis\u001b[0m\u001b[0;34m,\u001b[0m \u001b[0mlevel\u001b[0m\u001b[0;34m=\u001b[0m\u001b[0mlevel\u001b[0m\u001b[0;34m,\u001b[0m \u001b[0merrors\u001b[0m\u001b[0;34m=\u001b[0m\u001b[0merrors\u001b[0m\u001b[0;34m)\u001b[0m\u001b[0;34m\u001b[0m\u001b[0;34m\u001b[0m\u001b[0m\n\u001b[0m\u001b[1;32m   3890\u001b[0m \u001b[0;34m\u001b[0m\u001b[0m\n\u001b[1;32m   3891\u001b[0m         \u001b[0;32mif\u001b[0m \u001b[0minplace\u001b[0m\u001b[0;34m:\u001b[0m\u001b[0;34m\u001b[0m\u001b[0;34m\u001b[0m\u001b[0m\n",
      "\u001b[0;32m/usr/local/lib/python3.8/site-packages/pandas/core/generic.py\u001b[0m in \u001b[0;36m_drop_axis\u001b[0;34m(self, labels, axis, level, errors)\u001b[0m\n\u001b[1;32m   3921\u001b[0m                 \u001b[0mnew_axis\u001b[0m \u001b[0;34m=\u001b[0m \u001b[0maxis\u001b[0m\u001b[0;34m.\u001b[0m\u001b[0mdrop\u001b[0m\u001b[0;34m(\u001b[0m\u001b[0mlabels\u001b[0m\u001b[0;34m,\u001b[0m \u001b[0mlevel\u001b[0m\u001b[0;34m=\u001b[0m\u001b[0mlevel\u001b[0m\u001b[0;34m,\u001b[0m \u001b[0merrors\u001b[0m\u001b[0;34m=\u001b[0m\u001b[0merrors\u001b[0m\u001b[0;34m)\u001b[0m\u001b[0;34m\u001b[0m\u001b[0;34m\u001b[0m\u001b[0m\n\u001b[1;32m   3922\u001b[0m             \u001b[0;32melse\u001b[0m\u001b[0;34m:\u001b[0m\u001b[0;34m\u001b[0m\u001b[0;34m\u001b[0m\u001b[0m\n\u001b[0;32m-> 3923\u001b[0;31m                 \u001b[0mnew_axis\u001b[0m \u001b[0;34m=\u001b[0m \u001b[0maxis\u001b[0m\u001b[0;34m.\u001b[0m\u001b[0mdrop\u001b[0m\u001b[0;34m(\u001b[0m\u001b[0mlabels\u001b[0m\u001b[0;34m,\u001b[0m \u001b[0merrors\u001b[0m\u001b[0;34m=\u001b[0m\u001b[0merrors\u001b[0m\u001b[0;34m)\u001b[0m\u001b[0;34m\u001b[0m\u001b[0;34m\u001b[0m\u001b[0m\n\u001b[0m\u001b[1;32m   3924\u001b[0m             \u001b[0mresult\u001b[0m \u001b[0;34m=\u001b[0m \u001b[0mself\u001b[0m\u001b[0;34m.\u001b[0m\u001b[0mreindex\u001b[0m\u001b[0;34m(\u001b[0m\u001b[0;34m**\u001b[0m\u001b[0;34m{\u001b[0m\u001b[0maxis_name\u001b[0m\u001b[0;34m:\u001b[0m \u001b[0mnew_axis\u001b[0m\u001b[0;34m}\u001b[0m\u001b[0;34m)\u001b[0m\u001b[0;34m\u001b[0m\u001b[0;34m\u001b[0m\u001b[0m\n\u001b[1;32m   3925\u001b[0m \u001b[0;34m\u001b[0m\u001b[0m\n",
      "\u001b[0;32m/usr/local/lib/python3.8/site-packages/pandas/core/indexes/base.py\u001b[0m in \u001b[0;36mdrop\u001b[0;34m(self, labels, errors)\u001b[0m\n\u001b[1;32m   5285\u001b[0m         \u001b[0;32mif\u001b[0m \u001b[0mmask\u001b[0m\u001b[0;34m.\u001b[0m\u001b[0many\u001b[0m\u001b[0;34m(\u001b[0m\u001b[0;34m)\u001b[0m\u001b[0;34m:\u001b[0m\u001b[0;34m\u001b[0m\u001b[0;34m\u001b[0m\u001b[0m\n\u001b[1;32m   5286\u001b[0m             \u001b[0;32mif\u001b[0m \u001b[0merrors\u001b[0m \u001b[0;34m!=\u001b[0m \u001b[0;34m\"ignore\"\u001b[0m\u001b[0;34m:\u001b[0m\u001b[0;34m\u001b[0m\u001b[0;34m\u001b[0m\u001b[0m\n\u001b[0;32m-> 5287\u001b[0;31m                 \u001b[0;32mraise\u001b[0m \u001b[0mKeyError\u001b[0m\u001b[0;34m(\u001b[0m\u001b[0;34mf\"{labels[mask]} not found in axis\"\u001b[0m\u001b[0;34m)\u001b[0m\u001b[0;34m\u001b[0m\u001b[0;34m\u001b[0m\u001b[0m\n\u001b[0m\u001b[1;32m   5288\u001b[0m             \u001b[0mindexer\u001b[0m \u001b[0;34m=\u001b[0m \u001b[0mindexer\u001b[0m\u001b[0;34m[\u001b[0m\u001b[0;34m~\u001b[0m\u001b[0mmask\u001b[0m\u001b[0;34m]\u001b[0m\u001b[0;34m\u001b[0m\u001b[0;34m\u001b[0m\u001b[0m\n\u001b[1;32m   5289\u001b[0m         \u001b[0;32mreturn\u001b[0m \u001b[0mself\u001b[0m\u001b[0;34m.\u001b[0m\u001b[0mdelete\u001b[0m\u001b[0;34m(\u001b[0m\u001b[0mindexer\u001b[0m\u001b[0;34m)\u001b[0m\u001b[0;34m\u001b[0m\u001b[0;34m\u001b[0m\u001b[0m\n",
      "\u001b[0;31mKeyError\u001b[0m: \"['thread.social.facebook.shares'] not found in axis\""
     ]
    }
   ],
   "source": [
    "df = df.drop(columns=['thread.social.facebook.shares'])\n",
    "# Removed because just correlation with useless features (which was just tabloid detection)"
   ]
  },
  {
   "cell_type": "code",
   "execution_count": 187,
   "metadata": {},
   "outputs": [
    {
     "ename": "KeyError",
     "evalue": "\"['thread.participants_count'] not found in axis\"",
     "output_type": "error",
     "traceback": [
      "\u001b[0;31m---------------------------------------------------------------------------\u001b[0m",
      "\u001b[0;31mKeyError\u001b[0m                                  Traceback (most recent call last)",
      "\u001b[0;32m<ipython-input-187-a17b15051257>\u001b[0m in \u001b[0;36m<module>\u001b[0;34m\u001b[0m\n\u001b[0;32m----> 1\u001b[0;31m \u001b[0mdf\u001b[0m \u001b[0;34m=\u001b[0m \u001b[0mdf\u001b[0m\u001b[0;34m.\u001b[0m\u001b[0mdrop\u001b[0m\u001b[0;34m(\u001b[0m\u001b[0mcolumns\u001b[0m\u001b[0;34m=\u001b[0m\u001b[0;34m[\u001b[0m\u001b[0;34m'thread.participants_count'\u001b[0m\u001b[0;34m]\u001b[0m\u001b[0;34m)\u001b[0m\u001b[0;34m\u001b[0m\u001b[0;34m\u001b[0m\u001b[0m\n\u001b[0m\u001b[1;32m      2\u001b[0m \u001b[0;31m# TBH don't know semantics of this feature\u001b[0m\u001b[0;34m\u001b[0m\u001b[0;34m\u001b[0m\u001b[0;34m\u001b[0m\u001b[0m\n",
      "\u001b[0;32m/usr/local/lib/python3.8/site-packages/pandas/core/frame.py\u001b[0m in \u001b[0;36mdrop\u001b[0;34m(self, labels, axis, index, columns, level, inplace, errors)\u001b[0m\n\u001b[1;32m   4165\u001b[0m                 \u001b[0mweight\u001b[0m  \u001b[0;36m1.0\u001b[0m     \u001b[0;36m0.8\u001b[0m\u001b[0;34m\u001b[0m\u001b[0;34m\u001b[0m\u001b[0m\n\u001b[1;32m   4166\u001b[0m         \"\"\"\n\u001b[0;32m-> 4167\u001b[0;31m         return super().drop(\n\u001b[0m\u001b[1;32m   4168\u001b[0m             \u001b[0mlabels\u001b[0m\u001b[0;34m=\u001b[0m\u001b[0mlabels\u001b[0m\u001b[0;34m,\u001b[0m\u001b[0;34m\u001b[0m\u001b[0;34m\u001b[0m\u001b[0m\n\u001b[1;32m   4169\u001b[0m             \u001b[0maxis\u001b[0m\u001b[0;34m=\u001b[0m\u001b[0maxis\u001b[0m\u001b[0;34m,\u001b[0m\u001b[0;34m\u001b[0m\u001b[0;34m\u001b[0m\u001b[0m\n",
      "\u001b[0;32m/usr/local/lib/python3.8/site-packages/pandas/core/generic.py\u001b[0m in \u001b[0;36mdrop\u001b[0;34m(self, labels, axis, index, columns, level, inplace, errors)\u001b[0m\n\u001b[1;32m   3887\u001b[0m         \u001b[0;32mfor\u001b[0m \u001b[0maxis\u001b[0m\u001b[0;34m,\u001b[0m \u001b[0mlabels\u001b[0m \u001b[0;32min\u001b[0m \u001b[0maxes\u001b[0m\u001b[0;34m.\u001b[0m\u001b[0mitems\u001b[0m\u001b[0;34m(\u001b[0m\u001b[0;34m)\u001b[0m\u001b[0;34m:\u001b[0m\u001b[0;34m\u001b[0m\u001b[0;34m\u001b[0m\u001b[0m\n\u001b[1;32m   3888\u001b[0m             \u001b[0;32mif\u001b[0m \u001b[0mlabels\u001b[0m \u001b[0;32mis\u001b[0m \u001b[0;32mnot\u001b[0m \u001b[0;32mNone\u001b[0m\u001b[0;34m:\u001b[0m\u001b[0;34m\u001b[0m\u001b[0;34m\u001b[0m\u001b[0m\n\u001b[0;32m-> 3889\u001b[0;31m                 \u001b[0mobj\u001b[0m \u001b[0;34m=\u001b[0m \u001b[0mobj\u001b[0m\u001b[0;34m.\u001b[0m\u001b[0m_drop_axis\u001b[0m\u001b[0;34m(\u001b[0m\u001b[0mlabels\u001b[0m\u001b[0;34m,\u001b[0m \u001b[0maxis\u001b[0m\u001b[0;34m,\u001b[0m \u001b[0mlevel\u001b[0m\u001b[0;34m=\u001b[0m\u001b[0mlevel\u001b[0m\u001b[0;34m,\u001b[0m \u001b[0merrors\u001b[0m\u001b[0;34m=\u001b[0m\u001b[0merrors\u001b[0m\u001b[0;34m)\u001b[0m\u001b[0;34m\u001b[0m\u001b[0;34m\u001b[0m\u001b[0m\n\u001b[0m\u001b[1;32m   3890\u001b[0m \u001b[0;34m\u001b[0m\u001b[0m\n\u001b[1;32m   3891\u001b[0m         \u001b[0;32mif\u001b[0m \u001b[0minplace\u001b[0m\u001b[0;34m:\u001b[0m\u001b[0;34m\u001b[0m\u001b[0;34m\u001b[0m\u001b[0m\n",
      "\u001b[0;32m/usr/local/lib/python3.8/site-packages/pandas/core/generic.py\u001b[0m in \u001b[0;36m_drop_axis\u001b[0;34m(self, labels, axis, level, errors)\u001b[0m\n\u001b[1;32m   3921\u001b[0m                 \u001b[0mnew_axis\u001b[0m \u001b[0;34m=\u001b[0m \u001b[0maxis\u001b[0m\u001b[0;34m.\u001b[0m\u001b[0mdrop\u001b[0m\u001b[0;34m(\u001b[0m\u001b[0mlabels\u001b[0m\u001b[0;34m,\u001b[0m \u001b[0mlevel\u001b[0m\u001b[0;34m=\u001b[0m\u001b[0mlevel\u001b[0m\u001b[0;34m,\u001b[0m \u001b[0merrors\u001b[0m\u001b[0;34m=\u001b[0m\u001b[0merrors\u001b[0m\u001b[0;34m)\u001b[0m\u001b[0;34m\u001b[0m\u001b[0;34m\u001b[0m\u001b[0m\n\u001b[1;32m   3922\u001b[0m             \u001b[0;32melse\u001b[0m\u001b[0;34m:\u001b[0m\u001b[0;34m\u001b[0m\u001b[0;34m\u001b[0m\u001b[0m\n\u001b[0;32m-> 3923\u001b[0;31m                 \u001b[0mnew_axis\u001b[0m \u001b[0;34m=\u001b[0m \u001b[0maxis\u001b[0m\u001b[0;34m.\u001b[0m\u001b[0mdrop\u001b[0m\u001b[0;34m(\u001b[0m\u001b[0mlabels\u001b[0m\u001b[0;34m,\u001b[0m \u001b[0merrors\u001b[0m\u001b[0;34m=\u001b[0m\u001b[0merrors\u001b[0m\u001b[0;34m)\u001b[0m\u001b[0;34m\u001b[0m\u001b[0;34m\u001b[0m\u001b[0m\n\u001b[0m\u001b[1;32m   3924\u001b[0m             \u001b[0mresult\u001b[0m \u001b[0;34m=\u001b[0m \u001b[0mself\u001b[0m\u001b[0;34m.\u001b[0m\u001b[0mreindex\u001b[0m\u001b[0;34m(\u001b[0m\u001b[0;34m**\u001b[0m\u001b[0;34m{\u001b[0m\u001b[0maxis_name\u001b[0m\u001b[0;34m:\u001b[0m \u001b[0mnew_axis\u001b[0m\u001b[0;34m}\u001b[0m\u001b[0;34m)\u001b[0m\u001b[0;34m\u001b[0m\u001b[0;34m\u001b[0m\u001b[0m\n\u001b[1;32m   3925\u001b[0m \u001b[0;34m\u001b[0m\u001b[0m\n",
      "\u001b[0;32m/usr/local/lib/python3.8/site-packages/pandas/core/indexes/base.py\u001b[0m in \u001b[0;36mdrop\u001b[0;34m(self, labels, errors)\u001b[0m\n\u001b[1;32m   5285\u001b[0m         \u001b[0;32mif\u001b[0m \u001b[0mmask\u001b[0m\u001b[0;34m.\u001b[0m\u001b[0many\u001b[0m\u001b[0;34m(\u001b[0m\u001b[0;34m)\u001b[0m\u001b[0;34m:\u001b[0m\u001b[0;34m\u001b[0m\u001b[0;34m\u001b[0m\u001b[0m\n\u001b[1;32m   5286\u001b[0m             \u001b[0;32mif\u001b[0m \u001b[0merrors\u001b[0m \u001b[0;34m!=\u001b[0m \u001b[0;34m\"ignore\"\u001b[0m\u001b[0;34m:\u001b[0m\u001b[0;34m\u001b[0m\u001b[0;34m\u001b[0m\u001b[0m\n\u001b[0;32m-> 5287\u001b[0;31m                 \u001b[0;32mraise\u001b[0m \u001b[0mKeyError\u001b[0m\u001b[0;34m(\u001b[0m\u001b[0;34mf\"{labels[mask]} not found in axis\"\u001b[0m\u001b[0;34m)\u001b[0m\u001b[0;34m\u001b[0m\u001b[0;34m\u001b[0m\u001b[0m\n\u001b[0m\u001b[1;32m   5288\u001b[0m             \u001b[0mindexer\u001b[0m \u001b[0;34m=\u001b[0m \u001b[0mindexer\u001b[0m\u001b[0;34m[\u001b[0m\u001b[0;34m~\u001b[0m\u001b[0mmask\u001b[0m\u001b[0;34m]\u001b[0m\u001b[0;34m\u001b[0m\u001b[0;34m\u001b[0m\u001b[0m\n\u001b[1;32m   5289\u001b[0m         \u001b[0;32mreturn\u001b[0m \u001b[0mself\u001b[0m\u001b[0;34m.\u001b[0m\u001b[0mdelete\u001b[0m\u001b[0;34m(\u001b[0m\u001b[0mindexer\u001b[0m\u001b[0;34m)\u001b[0m\u001b[0;34m\u001b[0m\u001b[0;34m\u001b[0m\u001b[0m\n",
      "\u001b[0;31mKeyError\u001b[0m: \"['thread.participants_count'] not found in axis\""
     ]
    }
   ],
   "source": [
    "df = df.drop(columns=['thread.participants_count'])\n",
    "# TBH don't know semantics of this feature"
   ]
  },
  {
   "cell_type": "code",
   "execution_count": 190,
   "metadata": {},
   "outputs": [
    {
     "data": {
      "text/plain": [
       "news     55410\n",
       "blogs     2046\n",
       "Name: thread.site_type, dtype: int64"
      ]
     },
     "execution_count": 190,
     "metadata": {},
     "output_type": "execute_result"
    }
   ],
   "source": [
    "df['thread.site_type'].value_counts()"
   ]
  },
  {
   "cell_type": "code",
   "execution_count": 195,
   "metadata": {},
   "outputs": [],
   "source": [
    "blogs_only = df[df['thread.site_type'] == 'blogs'].sample(5)\n",
    "blogs_only[['title','text']].to_json(path.join(data_news_dir, 'blogs_sample.json'))\n",
    "# Blogs should be fine, no major difference found between blogs and articles\n",
    "df = df.drop(columns=['thread.site_type'])"
   ]
  },
  {
   "cell_type": "code",
   "execution_count": 197,
   "metadata": {},
   "outputs": [
    {
     "data": {
      "text/plain": [
       "english    57456\n",
       "Name: language, dtype: int64"
      ]
     },
     "execution_count": 197,
     "metadata": {},
     "output_type": "execute_result"
    }
   ],
   "source": [
    "df['language'].value_counts()"
   ]
  },
  {
   "cell_type": "code",
   "execution_count": 198,
   "metadata": {},
   "outputs": [],
   "source": [
    "df = df.drop(columns=['language'])"
   ]
  },
  {
   "cell_type": "code",
   "execution_count": 204,
   "metadata": {},
   "outputs": [
    {
     "name": "stdout",
     "output_type": "stream",
     "text": [
      "Directory /Users/melkos01/Documents/aitalents-investoid/data/news/2018_03_112b52537b67659ad3609a234388c50a\n",
      "Directory /Users/melkos01/Documents/aitalents-investoid/data/news/2018_04_112b52537b67659ad3609a234388c50a\n",
      "Directory /Users/melkos01/Documents/aitalents-investoid/data/news/2018_02_112b52537b67659ad3609a234388c50a\n",
      "Directory /Users/melkos01/Documents/aitalents-investoid/data/news/2018_01_112b52537b67659ad3609a234388c50a\n",
      "Directory /Users/melkos01/Documents/aitalents-investoid/data/news/2018_05_112b52537b67659ad3609a234388c50a\n"
     ]
    }
   ],
   "source": [
    "prepared_dir = path.join(cwd, '../data/prepared')\n",
    "cols_to_keep = ['thread.site_full', 'title', 'entities.organizations', 'text', 'published']\n",
    "for dp in dirs_to_process:\n",
    "    print(f'Directory {dp}')\n",
    "    year,month = dp.split('/')[-1].split('_')[:2]\n",
    "    preprocess_dir(dp)\n",
    "    df = pd.read_json(get_df_path(year,month))\n",
    "    df = df[cols_to_keep]\n",
    "    df.to_json(path.join(prepared_dir, f'{year}-{month}.json'))"
   ]
  },
  {
   "cell_type": "code",
   "execution_count": null,
   "metadata": {},
   "outputs": [],
   "source": []
  }
 ],
 "metadata": {
  "kernelspec": {
   "display_name": "Python 3",
   "language": "python",
   "name": "python3"
  },
  "language_info": {
   "codemirror_mode": {
    "name": "ipython",
    "version": 3
   },
   "file_extension": ".py",
   "mimetype": "text/x-python",
   "name": "python",
   "nbconvert_exporter": "python",
   "pygments_lexer": "ipython3",
   "version": "3.8.6"
  }
 },
 "nbformat": 4,
 "nbformat_minor": 4
}
